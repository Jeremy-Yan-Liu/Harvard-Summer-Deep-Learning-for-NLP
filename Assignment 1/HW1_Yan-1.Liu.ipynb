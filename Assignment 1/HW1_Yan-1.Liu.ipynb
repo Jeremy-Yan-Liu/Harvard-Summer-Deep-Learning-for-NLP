{
 "cells": [
  {
   "cell_type": "markdown",
   "metadata": {},
   "source": [
    "## Homework 1 by Yan Liu"
   ]
  },
  {
   "cell_type": "code",
   "execution_count": 1,
   "metadata": {},
   "outputs": [
    {
     "name": "stderr",
     "output_type": "stream",
     "text": [
      "Using TensorFlow backend.\n"
     ]
    }
   ],
   "source": [
    "# Import libraries\n",
    "\n",
    "import nltk\n",
    "#nltk.download('udhr')\n",
    "#nltk.download('inaugural')\n",
    "from nltk.corpus import udhr\n",
    "from nltk.corpus import inaugural\n",
    "from nltk.corpus import wordnet as wn\n",
    "import matplotlib as pltlib\n",
    "pltlib.rcParams['figure.dpi'] = 900\n",
    "import matplotlib.pyplot as plt\n",
    "plt.style.use('ggplot')\n",
    "\n",
    "import numpy as np\n",
    "import pandas as pd\n",
    "import itertools\n",
    "%matplotlib inline\n",
    "\n",
    "#this library is used for splitting to training and validation set\n",
    "from sklearn.model_selection import train_test_split\n",
    "\n",
    "#to encode the class label in one hot encoded style\n",
    "from sklearn.preprocessing import OneHotEncoder\n",
    "\n",
    "#model architecture library\n",
    "from keras.models import Sequential\n",
    "from keras import layers\n",
    "\n",
    "#for the optimization \n",
    "from keras.optimizers import RMSprop,Adam,SGD\n",
    "#for adding layers\n",
    "from keras.layers import Dense, Activation, Dropout\n",
    "#from keras.callbacks import ModelCheckpoint\n",
    "\n",
    "#for encoding in one hot encoded style\n",
    "from keras.utils import to_categorical\n",
    "\n",
    "import random\n",
    "from sklearn.metrics import confusion_matrix"
   ]
  },
  {
   "cell_type": "markdown",
   "metadata": {},
   "source": [
    "### Problem 1"
   ]
  },
  {
   "cell_type": "markdown",
   "metadata": {},
   "source": [
    "Use the text of the Universal Declaration of Human Rights (UDHR). Create a table for 4 languages of your choice. Use that table to collect statistics about those languages. Place in that table the number of words in UDHR in each language, number of unique words, average length of words, number of sentences contained in UDHR and average number of words per sentence. You do not have to populate the table from your code. You may, but you may also determine individual values separately and enter them in the table manually.  Create a distribution of sentence lengths for all four language. Distribution of sentence lengths presents the number of sentences of varying length. Plot those (non-cumulative) distributions for all four languages using one diagram. \n",
    "(25%)\n"
   ]
  },
  {
   "cell_type": "code",
   "execution_count": 2,
   "metadata": {},
   "outputs": [],
   "source": [
    "# Select four languages\n",
    "languages = ['French_Francais', 'English', 'German_Deutsch','Spanish']\n",
    "num_words = [len(udhr.words(lang + '-Latin1')) for lang in languages]\n",
    "num_unique_words = [len(set(udhr.words(lang + '-Latin1'))) for lang in languages]\n",
    "num_sents = [len(udhr.sents(lang + '-Latin1')) for lang in languages]"
   ]
  },
  {
   "cell_type": "code",
   "execution_count": 3,
   "metadata": {},
   "outputs": [],
   "source": [
    "avg_word_len = [round(sum([len(w) for w in udhr.words(\"English\" + '-Latin1')])/num_word,3) for lang,num_word in zip(languages, num_words)]"
   ]
  },
  {
   "cell_type": "code",
   "execution_count": 4,
   "metadata": {},
   "outputs": [],
   "source": [
    "avg_unique_word_len = [round(sum([len(w) for w in set(udhr.words(\"English\" + '-Latin1'))])/num_word,3) for lang,num_word in zip(languages, num_unique_words)]"
   ]
  },
  {
   "cell_type": "code",
   "execution_count": 5,
   "metadata": {},
   "outputs": [],
   "source": [
    "avg_word_per_sent = []\n",
    "for lang in languages: \n",
    "    avg_word_per_sent.append(len(sent) for sent in udhr.sents(lang + '-Latin1'))"
   ]
  },
  {
   "cell_type": "code",
   "execution_count": 6,
   "metadata": {},
   "outputs": [],
   "source": [
    "words_cnt_per_sent = {}\n",
    "avg_word_per_sent = []\n",
    "\n",
    "for lang in languages:\n",
    "    sents = udhr.sents(lang + '-Latin1') \n",
    "    words_cnt_per_sent[lang] = [len(sent) for sent in sents]\n",
    "    avg_word_per_sent.append(round(sum(words_cnt_per_sent[lang])/len(sents),3))\n",
    "    "
   ]
  },
  {
   "cell_type": "code",
   "execution_count": 7,
   "metadata": {},
   "outputs": [],
   "source": [
    "# Create a data frame to showcase the results\n",
    "table = pd.DataFrame({\n",
    "                     \"Lanugages\" : languages,\n",
    "                     \"Number of Words\" :num_words,\n",
    "                     \"Number of Unique Words\" : num_unique_words,\n",
    "                     \"Average Length of Words\" : avg_word_len,\n",
    "                     \"Number of Sentences\" :  num_sents,\n",
    "                     \"Average Number of Words per Sentence\" : avg_word_per_sent\n",
    "                     })"
   ]
  },
  {
   "cell_type": "code",
   "execution_count": 8,
   "metadata": {},
   "outputs": [
    {
     "data": {
      "text/html": [
       "<div>\n",
       "<style scoped>\n",
       "    .dataframe tbody tr th:only-of-type {\n",
       "        vertical-align: middle;\n",
       "    }\n",
       "\n",
       "    .dataframe tbody tr th {\n",
       "        vertical-align: top;\n",
       "    }\n",
       "\n",
       "    .dataframe thead th {\n",
       "        text-align: right;\n",
       "    }\n",
       "</style>\n",
       "<table border=\"1\" class=\"dataframe\">\n",
       "  <thead>\n",
       "    <tr style=\"text-align: right;\">\n",
       "      <th></th>\n",
       "      <th>Lanugages</th>\n",
       "      <th>Number of Words</th>\n",
       "      <th>Number of Unique Words</th>\n",
       "      <th>Average Length of Words</th>\n",
       "      <th>Number of Sentences</th>\n",
       "      <th>Average Number of Words per Sentence</th>\n",
       "    </tr>\n",
       "  </thead>\n",
       "  <tbody>\n",
       "    <tr>\n",
       "      <th>0</th>\n",
       "      <td>French_Francais</td>\n",
       "      <td>1935</td>\n",
       "      <td>567</td>\n",
       "      <td>4.274</td>\n",
       "      <td>57</td>\n",
       "      <td>33.947</td>\n",
       "    </tr>\n",
       "    <tr>\n",
       "      <th>1</th>\n",
       "      <td>English</td>\n",
       "      <td>1781</td>\n",
       "      <td>533</td>\n",
       "      <td>4.644</td>\n",
       "      <td>67</td>\n",
       "      <td>26.582</td>\n",
       "    </tr>\n",
       "    <tr>\n",
       "      <th>2</th>\n",
       "      <td>German_Deutsch</td>\n",
       "      <td>1521</td>\n",
       "      <td>579</td>\n",
       "      <td>5.438</td>\n",
       "      <td>60</td>\n",
       "      <td>25.350</td>\n",
       "    </tr>\n",
       "    <tr>\n",
       "      <th>3</th>\n",
       "      <td>Spanish</td>\n",
       "      <td>1763</td>\n",
       "      <td>542</td>\n",
       "      <td>4.691</td>\n",
       "      <td>58</td>\n",
       "      <td>30.397</td>\n",
       "    </tr>\n",
       "  </tbody>\n",
       "</table>\n",
       "</div>"
      ],
      "text/plain": [
       "         Lanugages  Number of Words  Number of Unique Words  \\\n",
       "0  French_Francais             1935                     567   \n",
       "1          English             1781                     533   \n",
       "2   German_Deutsch             1521                     579   \n",
       "3          Spanish             1763                     542   \n",
       "\n",
       "   Average Length of Words  Number of Sentences  \\\n",
       "0                    4.274                   57   \n",
       "1                    4.644                   67   \n",
       "2                    5.438                   60   \n",
       "3                    4.691                   58   \n",
       "\n",
       "   Average Number of Words per Sentence  \n",
       "0                                33.947  \n",
       "1                                26.582  \n",
       "2                                25.350  \n",
       "3                                30.397  "
      ]
     },
     "execution_count": 8,
     "metadata": {},
     "output_type": "execute_result"
    }
   ],
   "source": [
    "table"
   ]
  },
  {
   "cell_type": "markdown",
   "metadata": {},
   "source": [
    "Create a distribution of sentence lengths for all four language. Distribution of sentence lengths presents the number of sentences of varying length. Plot those (non-cumulative) distributions for all four languages using one diagram."
   ]
  },
  {
   "cell_type": "code",
   "execution_count": 9,
   "metadata": {},
   "outputs": [
    {
     "data": {
      "image/png": "[encoded data removed]",
      "text/plain": [
       "<Figure size 864x576 with 1 Axes>"
      ]
     },
     "metadata": {
      "needs_background": "light"
     },
     "output_type": "display_data"
    }
   ],
   "source": [
    "fig, ax = plt.subplots(figsize=(12,8))\n",
    "plt.hist(list(words_cnt_per_sent.values()), alpha = .5, bins = 10, label = languages)\n",
    "plt.xlabel('Sentence Length')\n",
    "plt.ylabel('Number of Sentences')\n",
    "plt.legend(loc='upper right')\n",
    "ax.set_xticks(range(0,120,10))\n",
    "plt.show()\n"
   ]
  },
  {
   "cell_type": "markdown",
   "metadata": {},
   "source": [
    "#### In general, the distribution of sentence length is approximately the same for the selected four lanugages. All the four languages have most sentences of length 10 to 20. French tends to be verbose as it has 1 or more sentences whose length fall into the [100,110] interval."
   ]
  },
  {
   "cell_type": "markdown",
   "metadata": {},
   "source": [
    "### Problem 2. "
   ]
  },
  {
   "cell_type": "markdown",
   "metadata": {},
   "source": [
    "Identify 10 most frequently used words longer than 7 characters in the entire corpus of Inaugural Addresses. Do not identify 10 words for every speech but rather 10 words for the entire corpus. Which among those words has the largest number of synonyms? List all synonyms for those 10 words. Which one of those 10 words has the largest number of hyponyms? List all hyponyms of those 10 most frequently used “long” words. The purpose of this problem is to familiarize you with WordNet and concepts of synonyms and hyponyms.\n",
    "(25%)\n"
   ]
  },
  {
   "cell_type": "code",
   "execution_count": 10,
   "metadata": {},
   "outputs": [],
   "source": [
    "# Load and concat all inaugurals words\n",
    "inaugurals = [inaugural.words(fileid) for fileid in inaugural.fileids()]\n",
    "concat_words = list(itertools.chain.from_iterable(inaugurals))"
   ]
  },
  {
   "cell_type": "markdown",
   "metadata": {},
   "source": [
    "#### 10 most frequently used words longer than 7 characters"
   ]
  },
  {
   "cell_type": "code",
   "execution_count": 11,
   "metadata": {},
   "outputs": [],
   "source": [
    "wordsDist = nltk.FreqDist(w.lower() for w in concat_words if len(w) > 7)"
   ]
  },
  {
   "cell_type": "code",
   "execution_count": 12,
   "metadata": {},
   "outputs": [
    {
     "data": {
      "text/plain": [
       "[('government', 600),\n",
       " ('citizens', 247),\n",
       " ('constitution', 206),\n",
       " ('american', 163),\n",
       " ('national', 157),\n",
       " ('congress', 130),\n",
       " ('interests', 115),\n",
       " ('political', 106),\n",
       " ('executive', 97),\n",
       " ('principles', 96)]"
      ]
     },
     "execution_count": 12,
     "metadata": {},
     "output_type": "execute_result"
    }
   ],
   "source": [
    "wordsDist.most_common(10)"
   ]
  },
  {
   "cell_type": "code",
   "execution_count": 13,
   "metadata": {},
   "outputs": [],
   "source": [
    "# Create a dictionary with the 10 words as keys and their synonym list as values\n",
    "words10 = [t[0] for t in wordsDist.most_common(10)]\n",
    "word_synonym = {}\n",
    "for w in words10:\n",
    "    synonyms = []\n",
    "    for synset in wn.synsets(w):\n",
    "        for lemma_name in synset.lemma_names():\n",
    "            if lemma_name not in synonyms:\n",
    "                synonyms.append(lemma_name)\n",
    "    word_synonym[w] = synonyms"
   ]
  },
  {
   "cell_type": "markdown",
   "metadata": {},
   "source": [
    "#### List all synonyms for those 10 words"
   ]
  },
  {
   "cell_type": "code",
   "execution_count": 14,
   "metadata": {},
   "outputs": [
    {
     "data": {
      "text/plain": [
       "{'government': ['government',\n",
       "  'authorities',\n",
       "  'regime',\n",
       "  'governing',\n",
       "  'governance',\n",
       "  'government_activity',\n",
       "  'administration',\n",
       "  'politics',\n",
       "  'political_science'],\n",
       " 'citizens': ['citizen'],\n",
       " 'constitution': ['fundamental_law',\n",
       "  'organic_law',\n",
       "  'constitution',\n",
       "  'establishment',\n",
       "  'formation',\n",
       "  'organization',\n",
       "  'organisation',\n",
       "  'United_States_Constitution',\n",
       "  'U.S._Constitution',\n",
       "  'US_Constitution',\n",
       "  'Constitution',\n",
       "  'Constitution_of_the_United_States',\n",
       "  'composition',\n",
       "  'physical_composition',\n",
       "  'makeup',\n",
       "  'make-up',\n",
       "  'Old_Ironsides'],\n",
       " 'american': ['American', 'American_English', 'American_language'],\n",
       " 'national': ['national', 'subject', 'home', 'interior', 'internal'],\n",
       " 'congress': ['Congress',\n",
       "  'United_States_Congress',\n",
       "  'U.S._Congress',\n",
       "  'US_Congress',\n",
       "  'congress',\n",
       "  'sexual_intercourse',\n",
       "  'intercourse',\n",
       "  'sex_act',\n",
       "  'copulation',\n",
       "  'coitus',\n",
       "  'coition',\n",
       "  'sexual_congress',\n",
       "  'sexual_relation',\n",
       "  'relation',\n",
       "  'carnal_knowledge'],\n",
       " 'interests': ['interest',\n",
       "  'involvement',\n",
       "  'sake',\n",
       "  'interestingness',\n",
       "  'stake',\n",
       "  'interest_group',\n",
       "  'pastime',\n",
       "  'pursuit',\n",
       "  'concern',\n",
       "  'occupy',\n",
       "  'worry',\n",
       "  'matter_to'],\n",
       " 'political': ['political'],\n",
       " 'executive': ['executive', 'executive_director', 'administrator'],\n",
       " 'principles': ['principle', 'rule', 'precept', 'rationale']}"
      ]
     },
     "execution_count": 14,
     "metadata": {},
     "output_type": "execute_result"
    }
   ],
   "source": [
    "word_synonym"
   ]
  },
  {
   "cell_type": "markdown",
   "metadata": {},
   "source": [
    "#### Words has the largest number of synonyms - constitution"
   ]
  },
  {
   "cell_type": "code",
   "execution_count": 15,
   "metadata": {},
   "outputs": [
    {
     "data": {
      "text/plain": [
       "[('constitution', 17),\n",
       " ('congress', 15),\n",
       " ('interests', 12),\n",
       " ('government', 9),\n",
       " ('national', 5),\n",
       " ('principles', 4),\n",
       " ('american', 3),\n",
       " ('executive', 3),\n",
       " ('citizens', 1),\n",
       " ('political', 1)]"
      ]
     },
     "execution_count": 15,
     "metadata": {},
     "output_type": "execute_result"
    }
   ],
   "source": [
    "sorted([(k,len(v)) for k,v in word_synonym.items()], key=lambda x: x[1], reverse = True)"
   ]
  },
  {
   "cell_type": "code",
   "execution_count": 16,
   "metadata": {},
   "outputs": [],
   "source": [
    "word_hyponym = {}\n",
    "for w in words10:\n",
    "    hyponyms = []\n",
    "    for synset in wn.synsets(w):\n",
    "        for lemma_name in synset.hyponyms():\n",
    "            if lemma_name not in hyponyms:\n",
    "                hyponyms.append(lemma_name)\n",
    "    word_hyponym[w] = hyponyms"
   ]
  },
  {
   "cell_type": "markdown",
   "metadata": {},
   "source": [
    "#### List all hyponyms of those 10 most frequently used “long” words."
   ]
  },
  {
   "cell_type": "code",
   "execution_count": 17,
   "metadata": {},
   "outputs": [
    {
     "data": {
      "text/plain": [
       "{'government': [Synset('ancien_regime.n.01'),\n",
       "  Synset('authoritarian_state.n.01'),\n",
       "  Synset('bureaucracy.n.02'),\n",
       "  Synset('court.n.03'),\n",
       "  Synset('downing_street.n.02'),\n",
       "  Synset('empire.n.02'),\n",
       "  Synset('federal_government.n.01'),\n",
       "  Synset('government-in-exile.n.01'),\n",
       "  Synset('local_government.n.01'),\n",
       "  Synset('military_government.n.01'),\n",
       "  Synset('palace.n.02'),\n",
       "  Synset('papacy.n.01'),\n",
       "  Synset('puppet_government.n.01'),\n",
       "  Synset('state.n.03'),\n",
       "  Synset('state_government.n.01'),\n",
       "  Synset('totalitarian_state.n.01'),\n",
       "  Synset('legislation.n.02'),\n",
       "  Synset('misgovernment.n.01'),\n",
       "  Synset('trust_busting.n.01'),\n",
       "  Synset('geopolitics.n.01'),\n",
       "  Synset('realpolitik.n.01')],\n",
       " 'citizens': [Synset('active_citizen.n.01'),\n",
       "  Synset('civilian.n.01'),\n",
       "  Synset('freeman.n.01'),\n",
       "  Synset('private_citizen.n.01'),\n",
       "  Synset('repatriate.n.01'),\n",
       "  Synset('thane.n.02'),\n",
       "  Synset('voter.n.01')],\n",
       " 'constitution': [Synset('collectivization.n.01'),\n",
       "  Synset('colonization.n.01'),\n",
       "  Synset('communization.n.02'),\n",
       "  Synset('federation.n.03'),\n",
       "  Synset('unionization.n.01'),\n",
       "  Synset('genotype.n.02'),\n",
       "  Synset('karyotype.n.01'),\n",
       "  Synset('phenotype.n.01'),\n",
       "  Synset('structure.n.02'),\n",
       "  Synset('texture.n.05')],\n",
       " 'american': [Synset('african-american.n.01'),\n",
       "  Synset('alabaman.n.01'),\n",
       "  Synset('alaskan.n.01'),\n",
       "  Synset('anglo-american.n.01'),\n",
       "  Synset('appalachian.n.01'),\n",
       "  Synset('arizonan.n.01'),\n",
       "  Synset('arkansan.n.01'),\n",
       "  Synset('asian_american.n.01'),\n",
       "  Synset('bay_stater.n.01'),\n",
       "  Synset('bostonian.n.01'),\n",
       "  Synset('californian.n.01'),\n",
       "  Synset('carolinian.n.01'),\n",
       "  Synset('coloradan.n.01'),\n",
       "  Synset('connecticuter.n.01'),\n",
       "  Synset('creole.n.02'),\n",
       "  Synset('delawarean.n.01'),\n",
       "  Synset('floridian.n.01'),\n",
       "  Synset('franco-american.n.01'),\n",
       "  Synset('georgian.n.01'),\n",
       "  Synset('german_american.n.01'),\n",
       "  Synset('hawaiian.n.02'),\n",
       "  Synset('idahoan.n.01'),\n",
       "  Synset('illinoisan.n.01'),\n",
       "  Synset('indianan.n.01'),\n",
       "  Synset('iowan.n.01'),\n",
       "  Synset('kansan.n.01'),\n",
       "  Synset('kentuckian.n.01'),\n",
       "  Synset('louisianan.n.01'),\n",
       "  Synset('mainer.n.01'),\n",
       "  Synset('marylander.n.01'),\n",
       "  Synset('michigander.n.01'),\n",
       "  Synset('minnesotan.n.01'),\n",
       "  Synset('mississippian.n.02'),\n",
       "  Synset('missourian.n.01'),\n",
       "  Synset('montanan.n.01'),\n",
       "  Synset('nebraskan.n.01'),\n",
       "  Synset('nevadan.n.01'),\n",
       "  Synset('new_englander.n.01'),\n",
       "  Synset('new_hampshirite.n.01'),\n",
       "  Synset('new_jerseyan.n.01'),\n",
       "  Synset('new_mexican.n.01'),\n",
       "  Synset('new_yorker.n.01'),\n",
       "  Synset('nisei.n.01'),\n",
       "  Synset('north_carolinian.n.01'),\n",
       "  Synset('north_dakotan.n.01'),\n",
       "  Synset('ohioan.n.01'),\n",
       "  Synset('oklahoman.n.01'),\n",
       "  Synset('oregonian.n.01'),\n",
       "  Synset('pennsylvanian.n.02'),\n",
       "  Synset('puerto_rican.n.01'),\n",
       "  Synset('rhode_islander.n.01'),\n",
       "  Synset('south_carolinian.n.01'),\n",
       "  Synset('south_dakotan.n.01'),\n",
       "  Synset('southerner.n.01'),\n",
       "  Synset('spanish_american.n.01'),\n",
       "  Synset('tennessean.n.01'),\n",
       "  Synset('texan.n.01'),\n",
       "  Synset('tory.n.01'),\n",
       "  Synset('utahan.n.01'),\n",
       "  Synset('vermonter.n.01'),\n",
       "  Synset('virginian.n.01'),\n",
       "  Synset('washingtonian.n.01'),\n",
       "  Synset('washingtonian.n.02'),\n",
       "  Synset('west_virginian.n.01'),\n",
       "  Synset('wisconsinite.n.01'),\n",
       "  Synset('wyomingite.n.01'),\n",
       "  Synset('yankee.n.01'),\n",
       "  Synset('yankee.n.03'),\n",
       "  Synset('african_american_vernacular_english.n.01'),\n",
       "  Synset('creole.n.01'),\n",
       "  Synset('latin_american.n.01'),\n",
       "  Synset('mesoamerican.n.01'),\n",
       "  Synset('north_american.n.01'),\n",
       "  Synset('south_american.n.01'),\n",
       "  Synset('west_indian.n.01')],\n",
       " 'national': [Synset('citizen.n.01'),\n",
       "  Synset('compatriot.n.01'),\n",
       "  Synset('patriot.n.01')],\n",
       " 'congress': [Synset('continental_congress.n.01'),\n",
       "  Synset('defloration.n.02'),\n",
       "  Synset('fuck.n.01'),\n",
       "  Synset('hank_panky.n.01'),\n",
       "  Synset('penetration.n.06'),\n",
       "  Synset('unlawful_carnal_knowledge.n.01')],\n",
       " 'interests': [Synset('concern.n.01'),\n",
       "  Synset('enthusiasm.n.03'),\n",
       "  Synset('behalf.n.02'),\n",
       "  Synset('charisma.n.01'),\n",
       "  Synset('color.n.02'),\n",
       "  Synset('newsworthiness.n.01'),\n",
       "  Synset('shrillness.n.01'),\n",
       "  Synset('topicality.n.01'),\n",
       "  Synset('compound_interest.n.01'),\n",
       "  Synset('simple_interest.n.01'),\n",
       "  Synset('controlling_interest.n.01'),\n",
       "  Synset('equity.n.02'),\n",
       "  Synset('fee.n.02'),\n",
       "  Synset('grubstake.n.01'),\n",
       "  Synset('insurable_interest.n.01'),\n",
       "  Synset('reversion.n.01'),\n",
       "  Synset('right.n.08'),\n",
       "  Synset('security_interest.n.01'),\n",
       "  Synset('terminable_interest.n.01'),\n",
       "  Synset('undivided_interest.n.01'),\n",
       "  Synset('vested_interest.n.01'),\n",
       "  Synset('special_interest.n.01'),\n",
       "  Synset('vested_interest.n.02'),\n",
       "  Synset('avocation.n.01'),\n",
       "  Synset('absorb.v.09'),\n",
       "  Synset('fascinate.v.02'),\n",
       "  Synset('intrigue.v.01')],\n",
       " 'political': [],\n",
       " 'executive': [Synset('corporate_executive.n.01'),\n",
       "  Synset('minister.n.02'),\n",
       "  Synset('rainmaker.n.01'),\n",
       "  Synset('surgeon_general.n.01'),\n",
       "  Synset('vice_president.n.01'),\n",
       "  Synset('bush_administration.n.01'),\n",
       "  Synset('bush_administration.n.02'),\n",
       "  Synset('carter_administration.n.01'),\n",
       "  Synset('clinton_administration.n.01'),\n",
       "  Synset('reagan_administration.n.01'),\n",
       "  Synset('commissioner.n.01'),\n",
       "  Synset('director_of_central_intelligence.n.01'),\n",
       "  Synset('prefect.n.01'),\n",
       "  Synset('secretary_general.n.01'),\n",
       "  Synset('triumvir.n.01')],\n",
       " 'principles': [Synset('feng_shui.n.01'),\n",
       "  Synset('pillar.n.01'),\n",
       "  Synset('yang.n.01'),\n",
       "  Synset('yin.n.01'),\n",
       "  Synset('accounting_principle.n.01'),\n",
       "  Synset('chivalry.n.02'),\n",
       "  Synset('ethic.n.01'),\n",
       "  Synset('hellenism.n.01'),\n",
       "  Synset('legal_principle.n.01'),\n",
       "  Synset('scruple.n.03'),\n",
       "  Synset('conservation.n.03'),\n",
       "  Synset('dictate.n.02'),\n",
       "  Synset('fundamentals.n.01'),\n",
       "  Synset('insurrectionism.n.01'),\n",
       "  Synset('logic.n.03'),\n",
       "  Synset('pleasure_principle.n.01'),\n",
       "  Synset('reality_principle.n.01'),\n",
       "  Synset('tao.n.02'),\n",
       "  Synset('gestalt_law_of_organization.n.01'),\n",
       "  Synset('gresham's_law.n.01'),\n",
       "  Synset('le_chatelier's_principle.n.01'),\n",
       "  Synset('localization_of_function.n.01'),\n",
       "  Synset('mass-action_principle.n.01'),\n",
       "  Synset('mass-energy_equivalence.n.01'),\n",
       "  Synset('naegele's_rule.n.01'),\n",
       "  Synset('occam's_razor.n.01'),\n",
       "  Synset('principle_of_equivalence.n.01'),\n",
       "  Synset('principle_of_liquid_displacement.n.01'),\n",
       "  Synset('principle_of_superposition.n.01'),\n",
       "  Synset('principle_of_superposition.n.02'),\n",
       "  Synset('caveat_emptor.n.01'),\n",
       "  Synset('higher_law.n.01'),\n",
       "  Synset('hypothetical_imperative.n.01'),\n",
       "  Synset('moral_principle.n.02'),\n",
       "  Synset('dialectics.n.01')]}"
      ]
     },
     "execution_count": 17,
     "metadata": {},
     "output_type": "execute_result"
    }
   ],
   "source": [
    "word_hyponym"
   ]
  },
  {
   "cell_type": "markdown",
   "metadata": {},
   "source": [
    "#### The word that has the largest number of hyponyms - american"
   ]
  },
  {
   "cell_type": "code",
   "execution_count": 18,
   "metadata": {},
   "outputs": [
    {
     "data": {
      "text/plain": [
       "[('american', 75),\n",
       " ('principles', 35),\n",
       " ('interests', 27),\n",
       " ('government', 21),\n",
       " ('executive', 15),\n",
       " ('constitution', 10),\n",
       " ('citizens', 7),\n",
       " ('congress', 6),\n",
       " ('national', 3),\n",
       " ('political', 0)]"
      ]
     },
     "execution_count": 18,
     "metadata": {},
     "output_type": "execute_result"
    }
   ],
   "source": [
    "sorted([(k,len(v)) for k,v in word_hyponym.items()], key=lambda x: x[1], reverse = True)"
   ]
  },
  {
   "cell_type": "markdown",
   "metadata": {},
   "source": [
    "### Problem 3. "
   ]
  },
  {
   "cell_type": "markdown",
   "metadata": {},
   "source": [
    "Consider 100 points along the straight line in (x,y) plane represented by the linear equation y = 0.3x + 0.2. Distribute those points along the line uniformly in the interval between -2.0 and 3.0. To the y coordinate of each point add a random normally distributed value with standard deviation of 1 and mean 0. You have created and artificial set of random measurements. Create a shallow neural network with one layer which will be able to predict y value corresponding to any x value in the above interval. Implement and train the network using Keras API. Report on the accuracy of your model. This is a rather trivial problem and you do not need neural networks to solve it. We are practicing Keras API."
   ]
  },
  {
   "cell_type": "code",
   "execution_count": 19,
   "metadata": {},
   "outputs": [],
   "source": [
    "random.seed(100)\n",
    "# Generate data points, use 1000 data points instead of 100 for higher accuracy\n",
    "num_points=1000\n",
    "x = np.linspace(-2,3,num_points)\n",
    "# Add noise, scale is changed to 0.1 to lower noise\n",
    "noise = np.random.normal(loc=0.0, scale=0.1, size=num_points)\n",
    "y = 0.3*x + 0.2 + noise"
   ]
  },
  {
   "cell_type": "code",
   "execution_count": 20,
   "metadata": {},
   "outputs": [
    {
     "data": {
      "text/plain": [
       "[<matplotlib.lines.Line2D at 0x145d81b38>]"
      ]
     },
     "execution_count": 20,
     "metadata": {},
     "output_type": "execute_result"
    },
    {
     "data": {
      "image/png": "[encoded data removed]",
      "text/plain": [
       "<Figure size 432x288 with 1 Axes>"
      ]
     },
     "metadata": {
      "needs_background": "light"
     },
     "output_type": "display_data"
    }
   ],
   "source": [
    "# Take a look\n",
    "plt.scatter(x,y,alpha =.5)\n",
    "plt.plot(x,0.3*x + 0.2, color = \"skyblue\", linewidth = 4)"
   ]
  },
  {
   "cell_type": "code",
   "execution_count": 21,
   "metadata": {},
   "outputs": [
    {
     "name": "stderr",
     "output_type": "stream",
     "text": [
      "WARNING: Logging before flag parsing goes to stderr.\n",
      "W0702 23:45:31.640747 4672939456 deprecation_wrapper.py:119] From /anaconda3/envs/pytf/lib/python3.6/site-packages/keras/backend/tensorflow_backend.py:74: The name tf.get_default_graph is deprecated. Please use tf.compat.v1.get_default_graph instead.\n",
      "\n",
      "W0702 23:45:31.653775 4672939456 deprecation_wrapper.py:119] From /anaconda3/envs/pytf/lib/python3.6/site-packages/keras/backend/tensorflow_backend.py:517: The name tf.placeholder is deprecated. Please use tf.compat.v1.placeholder instead.\n",
      "\n",
      "W0702 23:45:31.656318 4672939456 deprecation_wrapper.py:119] From /anaconda3/envs/pytf/lib/python3.6/site-packages/keras/backend/tensorflow_backend.py:4138: The name tf.random_uniform is deprecated. Please use tf.random.uniform instead.\n",
      "\n"
     ]
    },
    {
     "name": "stdout",
     "output_type": "stream",
     "text": [
      "_________________________________________________________________\n",
      "Layer (type)                 Output Shape              Param #   \n",
      "=================================================================\n",
      "dense_1 (Dense)              (None, 20)                40        \n",
      "_________________________________________________________________\n",
      "activation_1 (Activation)    (None, 20)                0         \n",
      "_________________________________________________________________\n",
      "dense_2 (Dense)              (None, 1)                 21        \n",
      "_________________________________________________________________\n",
      "activation_2 (Activation)    (None, 1)                 0         \n",
      "=================================================================\n",
      "Total params: 61\n",
      "Trainable params: 61\n",
      "Non-trainable params: 0\n",
      "_________________________________________________________________\n"
     ]
    }
   ],
   "source": [
    "# MODEL IS BUILD HERE\n",
    "# 1 LAYER SIMPLE NEURAL NETWORK\n",
    "#############################################\n",
    "\n",
    "#we add the layers in sequential form\n",
    "one_model = Sequential()\n",
    "\n",
    "#first hidden layer with 20 neurons\n",
    "one_model.add(Dense(20, input_shape=(1,)))\n",
    "\n",
    "#relu nonlinear activation function is chosen\n",
    "one_model.add(Activation('relu'))\n",
    "\n",
    "#output layer\n",
    "one_model.add(Dense(1))\n",
    "\n",
    "#Use a linear activation function is chosen\n",
    "one_model.add(Activation('linear'))\n",
    "\n",
    "#show the whole model architecture          \n",
    "one_model.summary()\n",
    "############################################\n",
    "\n",
    "\n"
   ]
  },
  {
   "cell_type": "code",
   "execution_count": 22,
   "metadata": {},
   "outputs": [
    {
     "name": "stdout",
     "output_type": "stream",
     "text": [
      "(1000,)\n",
      "(800,)\n",
      "(1000,)\n",
      "(800,)\n"
     ]
    }
   ],
   "source": [
    "#split the data into training and validation set with 80%, 20% respectively\n",
    "#x_coordinates = np.stack((x, y1), axis=-1)\n",
    "#y_coordinates = np.stack()\n",
    "train_x1, val_x1, train_y1, val_y1 = train_test_split(x,y, test_size=0.2, random_state=42,shuffle=True)\n",
    "\n",
    "print(x.shape)\n",
    "print(train_x1.shape)\n",
    "print(y.shape)\n",
    "print(train_y1.shape)\n",
    "\n"
   ]
  },
  {
   "cell_type": "markdown",
   "metadata": {},
   "source": [
    "#### Take a look at training dataset"
   ]
  },
  {
   "cell_type": "code",
   "execution_count": 23,
   "metadata": {},
   "outputs": [
    {
     "data": {
      "text/plain": [
       "<matplotlib.collections.PathCollection at 0x145ee0160>"
      ]
     },
     "execution_count": 23,
     "metadata": {},
     "output_type": "execute_result"
    },
    {
     "data": {
      "image/png": "[encoded data removed]",
      "text/plain": [
       "<Figure size 432x288 with 1 Axes>"
      ]
     },
     "metadata": {
      "needs_background": "light"
     },
     "output_type": "display_data"
    }
   ],
   "source": [
    "plt.scatter(train_x1, train_y1)"
   ]
  },
  {
   "cell_type": "markdown",
   "metadata": {},
   "source": [
    "#### Take a look at validation dataset"
   ]
  },
  {
   "cell_type": "code",
   "execution_count": 24,
   "metadata": {},
   "outputs": [
    {
     "data": {
      "text/plain": [
       "<matplotlib.collections.PathCollection at 0x145f390b8>"
      ]
     },
     "execution_count": 24,
     "metadata": {},
     "output_type": "execute_result"
    },
    {
     "data": {
      "image/png": "[encoded data removed]",
      "text/plain": [
       "<Figure size 432x288 with 1 Axes>"
      ]
     },
     "metadata": {
      "needs_background": "light"
     },
     "output_type": "display_data"
    }
   ],
   "source": [
    "plt.scatter(val_x1,val_y1)"
   ]
  },
  {
   "cell_type": "code",
   "execution_count": 25,
   "metadata": {},
   "outputs": [
    {
     "name": "stderr",
     "output_type": "stream",
     "text": [
      "W0702 23:45:32.064946 4672939456 deprecation_wrapper.py:119] From /anaconda3/envs/pytf/lib/python3.6/site-packages/keras/optimizers.py:790: The name tf.train.Optimizer is deprecated. Please use tf.compat.v1.train.Optimizer instead.\n",
      "\n",
      "W0702 23:45:32.173138 4672939456 deprecation_wrapper.py:119] From /anaconda3/envs/pytf/lib/python3.6/site-packages/keras/backend/tensorflow_backend.py:986: The name tf.assign_add is deprecated. Please use tf.compat.v1.assign_add instead.\n",
      "\n",
      "W0702 23:45:32.228817 4672939456 deprecation_wrapper.py:119] From /anaconda3/envs/pytf/lib/python3.6/site-packages/keras/backend/tensorflow_backend.py:973: The name tf.assign is deprecated. Please use tf.compat.v1.assign instead.\n",
      "\n"
     ]
    },
    {
     "name": "stdout",
     "output_type": "stream",
     "text": [
      "Train on 800 samples, validate on 200 samples\n",
      "Epoch 1/10\n",
      "800/800 [==============================] - 0s 218us/step - loss: 0.1589 - mean_absolute_error: 0.3309 - val_loss: 0.1322 - val_mean_absolute_error: 0.2968\n",
      "Epoch 2/10\n",
      "800/800 [==============================] - 0s 12us/step - loss: 0.1209 - mean_absolute_error: 0.2812 - val_loss: 0.0998 - val_mean_absolute_error: 0.2599\n",
      "Epoch 3/10\n",
      "800/800 [==============================] - 0s 9us/step - loss: 0.0908 - mean_absolute_error: 0.2450 - val_loss: 0.0744 - val_mean_absolute_error: 0.2271\n",
      "Epoch 4/10\n",
      "800/800 [==============================] - 0s 9us/step - loss: 0.0676 - mean_absolute_error: 0.2120 - val_loss: 0.0537 - val_mean_absolute_error: 0.1931\n",
      "Epoch 5/10\n",
      "800/800 [==============================] - 0s 9us/step - loss: 0.0489 - mean_absolute_error: 0.1796 - val_loss: 0.0382 - val_mean_absolute_error: 0.1627\n",
      "Epoch 6/10\n",
      "800/800 [==============================] - 0s 9us/step - loss: 0.0352 - mean_absolute_error: 0.1517 - val_loss: 0.0273 - val_mean_absolute_error: 0.1369\n",
      "Epoch 7/10\n",
      "800/800 [==============================] - 0s 9us/step - loss: 0.0257 - mean_absolute_error: 0.1283 - val_loss: 0.0199 - val_mean_absolute_error: 0.1157\n",
      "Epoch 8/10\n",
      "800/800 [==============================] - 0s 10us/step - loss: 0.0191 - mean_absolute_error: 0.1107 - val_loss: 0.0153 - val_mean_absolute_error: 0.0997\n",
      "Epoch 9/10\n",
      "800/800 [==============================] - 0s 10us/step - loss: 0.0150 - mean_absolute_error: 0.0976 - val_loss: 0.0126 - val_mean_absolute_error: 0.0883\n",
      "Epoch 10/10\n",
      "800/800 [==============================] - 0s 11us/step - loss: 0.0126 - mean_absolute_error: 0.0893 - val_loss: 0.0111 - val_mean_absolute_error: 0.0830\n"
     ]
    }
   ],
   "source": [
    "#OPTIMIZATION PARAMETERS ARE CONFIGURED HERE. THE MODEL IS TRAINED ALSO\n",
    "#############################################\n",
    "\n",
    "#Adam optimize is chosen\n",
    "#loss function is chosen as mean squared error as it's a regression problem\n",
    "#we want also show the results in accurucy results \n",
    "\n",
    "one_model.compile(optimizer='adam', loss='mean_squared_error',  metrics=['mae'])\n",
    "\n",
    "#train the model\n",
    "history = one_model.fit(train_x1,train_y1,\n",
    "                    batch_size=128,\n",
    "                    epochs=10,\n",
    "                    validation_data=(val_x1, val_y1))"
   ]
  },
  {
   "cell_type": "code",
   "execution_count": 26,
   "metadata": {},
   "outputs": [],
   "source": [
    "pred_y1= one_model.predict(val_x1)"
   ]
  },
  {
   "cell_type": "code",
   "execution_count": 27,
   "metadata": {},
   "outputs": [
    {
     "data": {
      "text/plain": [
       "<matplotlib.collections.PathCollection at 0x1468e0438>"
      ]
     },
     "execution_count": 27,
     "metadata": {},
     "output_type": "execute_result"
    },
    {
     "data": {
      "image/png": "[encoded data removed]",
      "text/plain": [
       "<Figure size 432x288 with 1 Axes>"
      ]
     },
     "metadata": {
      "needs_background": "light"
     },
     "output_type": "display_data"
    }
   ],
   "source": [
    "plt.plot(val_x1,pred_y1,'blue')\n",
    "plt.scatter(val_x1,val_y1)\n",
    "plt.scatter(x, 0.3*x+0.2, color = \"yellow\", linewidth = 2,alpha = .5)"
   ]
  },
  {
   "cell_type": "markdown",
   "metadata": {},
   "source": [
    "#### Both the model history and the plot above shows that the model performs well. The blue line is created with the validation data set and predicted value on the validation dataset.  The red points are noisy validation data. The yellow line is the true equation without adding noise. The blue line and the yellow line almost overlaps, indicating good fitted results."
   ]
  },
  {
   "cell_type": "markdown",
   "metadata": {},
   "source": [
    "### Problem 4. "
   ]
  },
  {
   "cell_type": "markdown",
   "metadata": {},
   "source": [
    "Consider three points in (x,y) plane with coordinates (-2,0), (0,1.7) and (2.1,0). Around each of those three centers create a cloud of 100 randomly generated points. For the radial distance of any one of those points from its center use a random normal distribution.  For the angular coordinate of any one of “cloud” points use the uniform distribution. Once you have generated all three sets of cloud points plot them in the same diagram using three different colors. There should exist some overlap between the clouds. Create a two-layer neural network. Use Keras API. Fit a model that could predict whether a randomly generated point in the plane belongs to cloud 1, centered around (-2,0), cloud 2, centered around (0,1.7) or cloud 3, centered around (2.1,0). You can make that prediction in a much simpler way, however, we are practicing Keras API."
   ]
  },
  {
   "cell_type": "code",
   "execution_count": 28,
   "metadata": {},
   "outputs": [],
   "source": [
    "# Generate random data points\n",
    "random.seed(1024)\n",
    "\n",
    "#this is the number of points in each cloud\n",
    "cloud_points=100\n",
    "\n",
    "#the center of the clouds are:\n",
    "center1 = [-2, 0]\n",
    "center2 = [0, 1.7]\n",
    "center3 = [2.1, 0]\n",
    "\n",
    "# Sample 100 'r' from normal distribution and 100 'theta' from uniform distribution of 0 and 2*pi. \n",
    "# Then, create 100 points in Cartesian Coordinate System\n",
    "\n",
    "# radial and angular parameters\n",
    "mean = 0\n",
    "sigma = 1.5\n",
    "low = 0\n",
    "high = 2*np.pi\n",
    "\n",
    "#cloud samples for the cloud 1\n",
    "r1=np.random.normal(mean, sigma, cloud_points)\n",
    "theta1 = np.random.uniform(low, high, cloud_points)\n",
    "#cloud samples for the cloud 2\n",
    "r2=np.random.normal(mean, sigma,cloud_points)\n",
    "theta2 = np.random.uniform(low,high, cloud_points)\n",
    "#cloud samples for the cloud 3\n",
    "r3=np.random.normal(mean, sigma, cloud_points)\n",
    "theta3 = np.random.uniform(low,high, cloud_points)\n",
    "\n",
    "# calculate x and y\n",
    "x1 = center1[0] + r1*np.cos(theta1)\n",
    "y1 = center1[1]+ r1*np.sin(theta1)\n",
    "x2 = center2[0] + r2*np.cos(theta2)\n",
    "y2 = center2[1]+ r2*np.sin(theta2)\n",
    "x3 = center3[0] + r3*np.cos(theta3)\n",
    "y3 = center3[1]+ r3*np.sin(theta3)"
   ]
  },
  {
   "cell_type": "code",
   "execution_count": 29,
   "metadata": {},
   "outputs": [
    {
     "data": {
      "image/png": "[encoded data removed]",
      "text/plain": [
       "<Figure size 432x288 with 1 Axes>"
      ]
     },
     "metadata": {
      "needs_background": "light"
     },
     "output_type": "display_data"
    }
   ],
   "source": [
    "#visualize the clouds in 2-dimensional plot\n",
    "#cloud 1 \n",
    "plt.scatter(x1,y1)\n",
    "#cloud 2 \n",
    "plt.scatter(x2,y2)\n",
    "#cloud 3 \n",
    "plt.scatter(x3,y3)\n",
    "\n",
    "\n",
    "#plot them\n",
    "plt.show()"
   ]
  },
  {
   "cell_type": "markdown",
   "metadata": {},
   "source": [
    "#### There're overlapped points indeed, good to go."
   ]
  },
  {
   "cell_type": "code",
   "execution_count": 30,
   "metadata": {},
   "outputs": [],
   "source": [
    "#class labels for each cloud point (without using one hot encoding)\n",
    "Y1 = np.tile(np.array([1,0,0]), (100,1))\n",
    "Y2 = np.tile(np.array([0,1,0]), (100,1))\n",
    "Y3 = np.tile(np.array([0,0,1]), (100,1))"
   ]
  },
  {
   "cell_type": "code",
   "execution_count": 31,
   "metadata": {},
   "outputs": [],
   "source": [
    "# Stack coordinates\n",
    "X1 = np.stack((x1, y1), axis=-1)\n",
    "X2 = np.stack((x2, y2), axis=-1)\n",
    "X3 = np.stack((x3, y3), axis=-1)"
   ]
  },
  {
   "cell_type": "code",
   "execution_count": 32,
   "metadata": {},
   "outputs": [],
   "source": [
    "#perform one aggregated input tensor\n",
    "X=np.concatenate([X1,X2,X3],axis=0)\n",
    "#perform one aggregated output tensor\n",
    "Y=np.vstack([Y1,Y2,Y3])"
   ]
  },
  {
   "cell_type": "code",
   "execution_count": 33,
   "metadata": {},
   "outputs": [
    {
     "name": "stdout",
     "output_type": "stream",
     "text": [
      "(300, 2)\n",
      "(240, 2)\n",
      "(300, 3)\n",
      "(240, 3)\n"
     ]
    }
   ],
   "source": [
    "#split the data into training and validation set with 80%, 20% respectively\n",
    "train_x, val_x, train_y, val_y = train_test_split( X,Y, test_size=0.2, random_state=42,shuffle=True)\n",
    "\n",
    "print(X.shape)\n",
    "print(train_x.shape)\n",
    "print(Y.shape)\n",
    "print(train_y.shape)\n"
   ]
  },
  {
   "cell_type": "code",
   "execution_count": 34,
   "metadata": {},
   "outputs": [
    {
     "name": "stdout",
     "output_type": "stream",
     "text": [
      "_________________________________________________________________\n",
      "Layer (type)                 Output Shape              Param #   \n",
      "=================================================================\n",
      "dense_3 (Dense)              (None, 50)                150       \n",
      "_________________________________________________________________\n",
      "activation_3 (Activation)    (None, 50)                0         \n",
      "_________________________________________________________________\n",
      "dense_4 (Dense)              (None, 50)                2550      \n",
      "_________________________________________________________________\n",
      "activation_4 (Activation)    (None, 50)                0         \n",
      "_________________________________________________________________\n",
      "dense_5 (Dense)              (None, 3)                 153       \n",
      "_________________________________________________________________\n",
      "activation_5 (Activation)    (None, 3)                 0         \n",
      "=================================================================\n",
      "Total params: 2,853\n",
      "Trainable params: 2,853\n",
      "Non-trainable params: 0\n",
      "_________________________________________________________________\n"
     ]
    }
   ],
   "source": [
    "# MODEL IS BUILD HERE\n",
    "# 2 LAYER SIMPLE NEURAL NETWORK\n",
    "#############################################\n",
    "\n",
    "#we add the layers in sequential form\n",
    "model = Sequential()\n",
    "\n",
    "#first hidden layer with 50 neurons, 2-D coordinates\n",
    "model.add(Dense(50, input_shape=(2,)))\n",
    "\n",
    "#relu nonlinear activation function is chosen\n",
    "model.add(Activation('relu'))\n",
    "\n",
    "#second hidden layer with 50 neurons\n",
    "model.add(Dense(50))\n",
    "\n",
    "#relu nonlinear activation function is chosen\n",
    "model.add(Activation('relu'))\n",
    "\n",
    "#output layer - 3 Classes\n",
    "model.add(Dense(3))\n",
    "\n",
    "#softmax nonlinear activation function is chosen\n",
    "model.add(Activation('softmax'))\n",
    "\n",
    "#show the whole model architecture          \n",
    "model.summary()\n",
    "############################################\n",
    "\n"
   ]
  },
  {
   "cell_type": "code",
   "execution_count": 35,
   "metadata": {},
   "outputs": [
    {
     "name": "stderr",
     "output_type": "stream",
     "text": [
      "W0702 23:45:33.105746 4672939456 deprecation.py:323] From /anaconda3/envs/pytf/lib/python3.6/site-packages/tensorflow/python/ops/math_grad.py:1250: add_dispatch_support.<locals>.wrapper (from tensorflow.python.ops.array_ops) is deprecated and will be removed in a future version.\n",
      "Instructions for updating:\n",
      "Use tf.where in 2.0, which has the same broadcast rule as np.where\n"
     ]
    },
    {
     "name": "stdout",
     "output_type": "stream",
     "text": [
      "Train on 240 samples, validate on 60 samples\n",
      "Epoch 1/5\n",
      "240/240 [==============================] - 0s 966us/step - loss: 1.0310 - acc: 0.3875 - val_loss: 0.8823 - val_acc: 0.7833\n",
      "Epoch 2/5\n",
      "240/240 [==============================] - 0s 56us/step - loss: 0.8056 - acc: 0.8042 - val_loss: 0.7000 - val_acc: 0.8833\n",
      "Epoch 3/5\n",
      "240/240 [==============================] - 0s 57us/step - loss: 0.6460 - acc: 0.8625 - val_loss: 0.5853 - val_acc: 0.8833\n",
      "Epoch 4/5\n",
      "240/240 [==============================] - 0s 42us/step - loss: 0.5384 - acc: 0.8625 - val_loss: 0.5041 - val_acc: 0.8500\n",
      "Epoch 5/5\n",
      "240/240 [==============================] - 0s 35us/step - loss: 0.4689 - acc: 0.8708 - val_loss: 0.4434 - val_acc: 0.8500\n"
     ]
    }
   ],
   "source": [
    "#OPTIMIZATION PARAMETERS ARE CONFIGURED HERE. THE MODEL IS TRAINED ALSO\n",
    "#############################################\n",
    "\n",
    "#Adam optimize is chosen\n",
    "#loss function is chosen as categorical_crossentropy\n",
    "#we want also show the results in accurucy results \n",
    "model.compile(optimizer=Adam(), loss='categorical_crossentropy', metrics=['accuracy'])\n",
    "\n",
    "#train the model\n",
    "history = model.fit(train_x,train_y,\n",
    "                    batch_size=32,\n",
    "                    epochs=5,\n",
    "                    shuffle=True,\n",
    "                    verbose=1,\n",
    "                    validation_data=(val_x, val_y))"
   ]
  },
  {
   "cell_type": "code",
   "execution_count": 36,
   "metadata": {},
   "outputs": [],
   "source": [
    "#Plot the results for training and validation loss\n",
    "\n",
    "#history object preserves the loss value\n",
    "loss = history.history['loss']\n",
    "#history object preserves the validation loss value\n",
    "val_loss = history.history['val_loss']\n",
    "\n",
    "#number of epochs\n",
    "epochs = range(len(loss))"
   ]
  },
  {
   "cell_type": "code",
   "execution_count": 37,
   "metadata": {},
   "outputs": [
    {
     "data": {
      "image/png": "[encoded data removed]",
      "text/plain": [
       "<Figure size 432x288 with 1 Axes>"
      ]
     },
     "metadata": {
      "needs_background": "light"
     },
     "output_type": "display_data"
    }
   ],
   "source": [
    "plt.figure()\n",
    "\n",
    "#training loss\n",
    "plt.plot(epochs, loss, 'bo', label='Training loss')\n",
    "#validation loss\n",
    "plt.plot(epochs, val_loss, 'b', label='Validation loss')\n",
    "#we add title\n",
    "plt.title('Training and validation loss')\n",
    "\n",
    "#we add legends\n",
    "plt.legend()\n",
    "#finally plot\n",
    "plt.show()"
   ]
  },
  {
   "cell_type": "code",
   "execution_count": 38,
   "metadata": {},
   "outputs": [
    {
     "data": {
      "text/plain": [
       "array([[0.04382719, 0.03984633, 0.91632646],\n",
       "       [0.04407236, 0.03922851, 0.9166991 ],\n",
       "       [0.16286145, 0.6629885 , 0.17415003],\n",
       "       [0.61444134, 0.22897711, 0.15658163],\n",
       "       [0.06136416, 0.03273075, 0.9059051 ],\n",
       "       [0.03478672, 0.03302778, 0.93218553],\n",
       "       [0.12337618, 0.70124876, 0.17537503],\n",
       "       [0.206813  , 0.5338764 , 0.25931057],\n",
       "       [0.670218  , 0.2031522 , 0.12662984],\n",
       "       [0.15824828, 0.71867055, 0.12308118],\n",
       "       [0.03291788, 0.33971244, 0.6273697 ],\n",
       "       [0.15320817, 0.7152921 , 0.13149975],\n",
       "       [0.11905987, 0.22307512, 0.65786505],\n",
       "       [0.8564393 , 0.08421239, 0.05934837],\n",
       "       [0.03651251, 0.9243474 , 0.03914008],\n",
       "       [0.13077989, 0.45852733, 0.41069272],\n",
       "       [0.01637244, 0.00283694, 0.9807906 ],\n",
       "       [0.01024507, 0.00789469, 0.9818602 ],\n",
       "       [0.11983924, 0.70485574, 0.175305  ],\n",
       "       [0.11522745, 0.37096068, 0.5138118 ],\n",
       "       [0.6768374 , 0.2013676 , 0.12179503],\n",
       "       [0.6369721 , 0.24619654, 0.11683129],\n",
       "       [0.09082536, 0.09767431, 0.8115003 ],\n",
       "       [0.08472509, 0.23206313, 0.68321174],\n",
       "       [0.06483825, 0.346184  , 0.5889778 ],\n",
       "       [0.28170654, 0.4823801 , 0.2359134 ],\n",
       "       [0.2126087 , 0.17020348, 0.61718786],\n",
       "       [0.04122394, 0.10212123, 0.8566548 ],\n",
       "       [0.08460816, 0.7815419 , 0.13384993],\n",
       "       [0.16193658, 0.15006903, 0.68799436],\n",
       "       [0.6837017 , 0.1955045 , 0.12079389],\n",
       "       [0.17681386, 0.6540866 , 0.1690995 ],\n",
       "       [0.69041383, 0.194728  , 0.11485819],\n",
       "       [0.7318339 , 0.17022632, 0.09793983],\n",
       "       [0.05974983, 0.07153131, 0.86871886],\n",
       "       [0.06668438, 0.84767795, 0.08563762],\n",
       "       [0.89236724, 0.07624731, 0.03138551],\n",
       "       [0.5263455 , 0.27763486, 0.19601962],\n",
       "       [0.5920884 , 0.26728496, 0.14062661],\n",
       "       [0.6772077 , 0.21301821, 0.10977405],\n",
       "       [0.60557425, 0.2413472 , 0.15307863],\n",
       "       [0.17913459, 0.55964875, 0.26121664],\n",
       "       [0.0641022 , 0.06676663, 0.86913115],\n",
       "       [0.6814613 , 0.20529032, 0.11324834],\n",
       "       [0.76084906, 0.15666838, 0.08248255],\n",
       "       [0.7833811 , 0.14883603, 0.06778283],\n",
       "       [0.10540774, 0.09092611, 0.8036662 ],\n",
       "       [0.06153851, 0.05256504, 0.8858964 ],\n",
       "       [0.157631  , 0.6806381 , 0.16173084],\n",
       "       [0.05614337, 0.05270978, 0.8911469 ],\n",
       "       [0.21734068, 0.52994365, 0.25271574],\n",
       "       [0.15037555, 0.41357735, 0.43604717],\n",
       "       [0.02547319, 0.01442931, 0.9600975 ],\n",
       "       [0.6756496 , 0.20045125, 0.1238992 ],\n",
       "       [0.06834172, 0.15476727, 0.776891  ],\n",
       "       [0.05489345, 0.5169594 , 0.4281471 ],\n",
       "       [0.6139361 , 0.26718107, 0.11888278],\n",
       "       [0.68143874, 0.202187  , 0.11637417],\n",
       "       [0.16109706, 0.63343036, 0.20547263],\n",
       "       [0.6206221 , 0.24432859, 0.13504937]], dtype=float32)"
      ]
     },
     "execution_count": 38,
     "metadata": {},
     "output_type": "execute_result"
    }
   ],
   "source": [
    "# Get predicted probabilities on validationd dataset\n",
    "model.predict(val_x)"
   ]
  },
  {
   "cell_type": "code",
   "execution_count": 39,
   "metadata": {},
   "outputs": [
    {
     "data": {
      "text/plain": [
       "array([2, 2, 1, 0, 2, 2, 1, 1, 0, 1, 2, 1, 2, 0, 1, 1, 2, 2, 1, 2, 0, 0,\n",
       "       2, 2, 2, 1, 2, 2, 1, 2, 0, 1, 0, 0, 2, 1, 0, 0, 0, 0, 0, 1, 2, 0,\n",
       "       0, 0, 2, 2, 1, 2, 1, 2, 2, 0, 2, 1, 0, 0, 1, 0])"
      ]
     },
     "execution_count": 39,
     "metadata": {},
     "output_type": "execute_result"
    }
   ],
   "source": [
    "# Get predicted classes on validationd dataset\n",
    "\n",
    "model.predict_classes(val_x)"
   ]
  },
  {
   "cell_type": "markdown",
   "metadata": {},
   "source": [
    "#### Combined with the probabilities above, cloud 1 is represented by 0, cloud 2 is represented by 1, cloud 3 is represented by 2"
   ]
  },
  {
   "cell_type": "code",
   "execution_count": 40,
   "metadata": {},
   "outputs": [],
   "source": [
    "# Generate new data in cloud 1, around center 1 \n",
    "random.seed(1023)\n",
    "#cloud samples for the cloud 1\n",
    "r1_new=np.random.normal(mean, sigma, cloud_points)\n",
    "theta1_new = np.random.uniform(low, high, cloud_points)\n",
    "# calculate x and y\n",
    "x1_new = center1[0] + r1_new*np.cos(theta1)\n",
    "y1_new = center1[1]+ r1_new*np.sin(theta1)\n",
    "X1_new = np.stack((x1_new, y1_new), axis=-1)"
   ]
  },
  {
   "cell_type": "code",
   "execution_count": 41,
   "metadata": {},
   "outputs": [
    {
     "data": {
      "text/plain": [
       "array([0, 0, 2, 0, 0, 0, 0, 1, 0, 0, 0, 0, 0, 0, 0, 1, 0, 0, 0, 0, 0, 0,\n",
       "       0, 1, 0, 0, 0, 0, 0, 0, 0, 0, 0, 0, 0, 0, 0, 0, 2, 0, 1, 0, 0, 2,\n",
       "       1, 0, 0, 0, 0, 0, 1, 0, 0, 0, 0, 1, 0, 0, 0, 0, 0, 0, 0, 0, 0, 0,\n",
       "       0, 1, 2, 1, 0, 0, 0, 0, 0, 0, 0, 0, 0, 0, 0, 0, 0, 0, 0, 1, 0, 0,\n",
       "       0, 0, 0, 0, 0, 0, 0, 0, 0, 0, 0, 2])"
      ]
     },
     "execution_count": 41,
     "metadata": {},
     "output_type": "execute_result"
    }
   ],
   "source": [
    "model.predict_classes(X1_new)"
   ]
  },
  {
   "cell_type": "markdown",
   "metadata": {},
   "source": [
    "#### The result on the new data is pretty good as most of the entries are 0 or cloud 1."
   ]
  }
 ],
 "metadata": {
  "kernelspec": {
   "display_name": "pytf",
   "language": "python",
   "name": "other-env"
  },
  "language_info": {
   "codemirror_mode": {
    "name": "ipython",
    "version": 3
   },
   "file_extension": ".py",
   "mimetype": "text/x-python",
   "name": "python",
   "nbconvert_exporter": "python",
   "pygments_lexer": "ipython3",
   "version": "3.6.1"
  }
 },
 "nbformat": 4,
 "nbformat_minor": 2
}
