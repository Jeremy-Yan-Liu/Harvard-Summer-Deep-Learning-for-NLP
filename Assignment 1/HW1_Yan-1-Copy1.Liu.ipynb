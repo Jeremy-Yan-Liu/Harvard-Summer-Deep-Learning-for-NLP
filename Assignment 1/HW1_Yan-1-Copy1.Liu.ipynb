{
 "cells": [
  {
   "cell_type": "markdown",
   "metadata": {},
   "source": [
    "## Homework 1 by Yan Liu"
   ]
  },
  {
   "cell_type": "code",
   "execution_count": 1,
   "metadata": {},
   "outputs": [
    {
     "name": "stderr",
     "output_type": "stream",
     "text": [
      "Using TensorFlow backend.\n"
     ]
    }
   ],
   "source": [
    "# Import libraries\n",
    "\n",
    "import nltk\n",
    "#nltk.download('udhr')\n",
    "#nltk.download('inaugural')\n",
    "from nltk.corpus import udhr\n",
    "from nltk.corpus import inaugural\n",
    "from nltk.corpus import wordnet as wn\n",
    "import matplotlib as pltlib\n",
    "pltlib.rcParams['figure.dpi'] = 900\n",
    "import matplotlib.pyplot as plt\n",
    "plt.style.use('ggplot')\n",
    "\n",
    "import numpy as np\n",
    "import pandas as pd\n",
    "import itertools\n",
    "%matplotlib inline\n",
    "\n",
    "#this library is used for splitting to training and validation set\n",
    "from sklearn.model_selection import train_test_split\n",
    "\n",
    "#to encode the class label in one hot encoded style\n",
    "from sklearn.preprocessing import OneHotEncoder\n",
    "\n",
    "#model architecture library\n",
    "from keras.models import Sequential\n",
    "from keras import layers\n",
    "\n",
    "#for the optimization \n",
    "from keras.optimizers import RMSprop,Adam,SGD\n",
    "#for adding layers\n",
    "from keras.layers import Dense, Activation, Dropout\n",
    "#from keras.callbacks import ModelCheckpoint\n",
    "\n",
    "#for encoding in one hot encoded style\n",
    "from keras.utils import to_categorical\n",
    "\n",
    "import random\n",
    "from sklearn.metrics import confusion_matrix"
   ]
  },
  {
   "cell_type": "markdown",
   "metadata": {},
   "source": [
    "### Problem 1"
   ]
  },
  {
   "cell_type": "markdown",
   "metadata": {},
   "source": [
    "Use the text of the Universal Declaration of Human Rights (UDHR). Create a table for 4 languages of your choice. Use that table to collect statistics about those languages. Place in that table the number of words in UDHR in each language, number of unique words, average length of words, number of sentences contained in UDHR and average number of words per sentence. You do not have to populate the table from your code. You may, but you may also determine individual values separately and enter them in the table manually.  Create a distribution of sentence lengths for all four language. Distribution of sentence lengths presents the number of sentences of varying length. Plot those (non-cumulative) distributions for all four languages using one diagram. \n",
    "(25%)\n"
   ]
  },
  {
   "cell_type": "code",
   "execution_count": 2,
   "metadata": {},
   "outputs": [],
   "source": [
    "# Select four languages\n",
    "languages = ['French_Francais', 'English', 'German_Deutsch','Spanish']\n",
    "num_words = [len(udhr.words(lang + '-Latin1')) for lang in languages]\n",
    "num_unique_words = [len(set(udhr.words(lang + '-Latin1'))) for lang in languages]\n",
    "num_sents = [len(udhr.sents(lang + '-Latin1')) for lang in languages]"
   ]
  },
  {
   "cell_type": "code",
   "execution_count": 3,
   "metadata": {},
   "outputs": [],
   "source": [
    "avg_word_len = [round(sum([len(w) for w in udhr.words(\"English\" + '-Latin1')])/num_word,3) for lang,num_word in zip(languages, num_words)]"
   ]
  },
  {
   "cell_type": "code",
   "execution_count": 4,
   "metadata": {},
   "outputs": [],
   "source": [
    "avg_unique_word_len = [round(sum([len(w) for w in set(udhr.words(\"English\" + '-Latin1'))])/num_word,3) for lang,num_word in zip(languages, num_unique_words)]"
   ]
  },
  {
   "cell_type": "code",
   "execution_count": 5,
   "metadata": {},
   "outputs": [],
   "source": [
    "avg_word_per_sent = []\n",
    "for lang in languages: \n",
    "    avg_word_per_sent.append(len(sent) for sent in udhr.sents(lang + '-Latin1'))"
   ]
  },
  {
   "cell_type": "code",
   "execution_count": 6,
   "metadata": {},
   "outputs": [],
   "source": [
    "words_cnt_per_sent = {}\n",
    "avg_word_per_sent = []\n",
    "\n",
    "for lang in languages:\n",
    "    sents = udhr.sents(lang + '-Latin1') \n",
    "    words_cnt_per_sent[lang] = [len(sent) for sent in sents]\n",
    "    avg_word_per_sent.append(round(sum(words_cnt_per_sent[lang])/len(sents),3))\n",
    "    "
   ]
  },
  {
   "cell_type": "code",
   "execution_count": 7,
   "metadata": {},
   "outputs": [],
   "source": [
    "# Create a data frame to showcase the results\n",
    "table = pd.DataFrame({\n",
    "                     \"Lanugages\" : languages,\n",
    "                     \"Number of Words\" :num_words,\n",
    "                     \"Number of Unique Words\" : num_unique_words,\n",
    "                     \"Average Length of Words\" : avg_word_len,\n",
    "                     \"Number of Sentences\" :  num_sents,\n",
    "                     \"Average Number of Words per Sentence\" : avg_word_per_sent\n",
    "                     })"
   ]
  },
  {
   "cell_type": "code",
   "execution_count": 8,
   "metadata": {},
   "outputs": [
    {
     "data": {
      "text/html": [
       "<div>\n",
       "<style scoped>\n",
       "    .dataframe tbody tr th:only-of-type {\n",
       "        vertical-align: middle;\n",
       "    }\n",
       "\n",
       "    .dataframe tbody tr th {\n",
       "        vertical-align: top;\n",
       "    }\n",
       "\n",
       "    .dataframe thead th {\n",
       "        text-align: right;\n",
       "    }\n",
       "</style>\n",
       "<table border=\"1\" class=\"dataframe\">\n",
       "  <thead>\n",
       "    <tr style=\"text-align: right;\">\n",
       "      <th></th>\n",
       "      <th>Lanugages</th>\n",
       "      <th>Number of Words</th>\n",
       "      <th>Number of Unique Words</th>\n",
       "      <th>Average Length of Words</th>\n",
       "      <th>Number of Sentences</th>\n",
       "      <th>Average Number of Words per Sentence</th>\n",
       "    </tr>\n",
       "  </thead>\n",
       "  <tbody>\n",
       "    <tr>\n",
       "      <th>0</th>\n",
       "      <td>French_Francais</td>\n",
       "      <td>1935</td>\n",
       "      <td>567</td>\n",
       "      <td>4.274</td>\n",
       "      <td>57</td>\n",
       "      <td>33.947</td>\n",
       "    </tr>\n",
       "    <tr>\n",
       "      <th>1</th>\n",
       "      <td>English</td>\n",
       "      <td>1781</td>\n",
       "      <td>533</td>\n",
       "      <td>4.644</td>\n",
       "      <td>67</td>\n",
       "      <td>26.582</td>\n",
       "    </tr>\n",
       "    <tr>\n",
       "      <th>2</th>\n",
       "      <td>German_Deutsch</td>\n",
       "      <td>1521</td>\n",
       "      <td>579</td>\n",
       "      <td>5.438</td>\n",
       "      <td>60</td>\n",
       "      <td>25.350</td>\n",
       "    </tr>\n",
       "    <tr>\n",
       "      <th>3</th>\n",
       "      <td>Spanish</td>\n",
       "      <td>1763</td>\n",
       "      <td>542</td>\n",
       "      <td>4.691</td>\n",
       "      <td>58</td>\n",
       "      <td>30.397</td>\n",
       "    </tr>\n",
       "  </tbody>\n",
       "</table>\n",
       "</div>"
      ],
      "text/plain": [
       "         Lanugages  Number of Words  Number of Unique Words  \\\n",
       "0  French_Francais             1935                     567   \n",
       "1          English             1781                     533   \n",
       "2   German_Deutsch             1521                     579   \n",
       "3          Spanish             1763                     542   \n",
       "\n",
       "   Average Length of Words  Number of Sentences  \\\n",
       "0                    4.274                   57   \n",
       "1                    4.644                   67   \n",
       "2                    5.438                   60   \n",
       "3                    4.691                   58   \n",
       "\n",
       "   Average Number of Words per Sentence  \n",
       "0                                33.947  \n",
       "1                                26.582  \n",
       "2                                25.350  \n",
       "3                                30.397  "
      ]
     },
     "execution_count": 8,
     "metadata": {},
     "output_type": "execute_result"
    }
   ],
   "source": [
    "table"
   ]
  },
  {
   "cell_type": "markdown",
   "metadata": {},
   "source": [
    "Create a distribution of sentence lengths for all four language. Distribution of sentence lengths presents the number of sentences of varying length. Plot those (non-cumulative) distributions for all four languages using one diagram."
   ]
  },
  {
   "cell_type": "code",
   "execution_count": 9,
   "metadata": {},
   "outputs": [
    {
     "data": {
      "image/png": "[encoded data removed]",
      "text/plain": [
       "<Figure size 864x576 with 1 Axes>"
      ]
     },
     "metadata": {
      "needs_background": "light"
     },
     "output_type": "display_data"
    }
   ],
   "source": [
    "fig, ax = plt.subplots(figsize=(12,8))\n",
    "plt.hist(list(words_cnt_per_sent.values()), alpha = .5, bins = 10, label = languages)\n",
    "plt.xlabel('Sentence Length')\n",
    "plt.ylabel('Number of Sentences')\n",
    "plt.legend(loc='upper right')\n",
    "ax.set_xticks(range(0,120,10))\n",
    "plt.show()\n"
   ]
  },
  {
   "cell_type": "markdown",
   "metadata": {},
   "source": [
    "#### In general, the distribution of sentence length is approximately the same for the selected four lanugages. All the four languages have most sentences of length 10 to 20. French tends to be verbose as it has 1 or more sentences whose length fall into the [100,110] interval."
   ]
  },
  {
   "cell_type": "markdown",
   "metadata": {},
   "source": [
    "### Problem 2. "
   ]
  },
  {
   "cell_type": "markdown",
   "metadata": {},
   "source": [
    "Identify 10 most frequently used words longer than 7 characters in the entire corpus of Inaugural Addresses. Do not identify 10 words for every speech but rather 10 words for the entire corpus. Which among those words has the largest number of synonyms? List all synonyms for those 10 words. Which one of those 10 words has the largest number of hyponyms? List all hyponyms of those 10 most frequently used “long” words. The purpose of this problem is to familiarize you with WordNet and concepts of synonyms and hyponyms.\n",
    "(25%)\n"
   ]
  },
  {
   "cell_type": "code",
   "execution_count": 10,
   "metadata": {},
   "outputs": [],
   "source": [
    "# Load and concat all inaugurals words\n",
    "inaugurals = [inaugural.words(fileid) for fileid in inaugural.fileids()]\n",
    "concat_words = list(itertools.chain.from_iterable(inaugurals))"
   ]
  },
  {
   "cell_type": "markdown",
   "metadata": {},
   "source": [
    "#### 10 most frequently used words longer than 7 characters"
   ]
  },
  {
   "cell_type": "code",
   "execution_count": 11,
   "metadata": {},
   "outputs": [],
   "source": [
    "wordsDist = nltk.FreqDist(w.lower() for w in concat_words if len(w) > 7)"
   ]
  },
  {
   "cell_type": "code",
   "execution_count": 12,
   "metadata": {},
   "outputs": [
    {
     "data": {
      "text/plain": [
       "[('government', 600),\n",
       " ('citizens', 247),\n",
       " ('constitution', 206),\n",
       " ('american', 163),\n",
       " ('national', 157),\n",
       " ('congress', 130),\n",
       " ('interests', 115),\n",
       " ('political', 106),\n",
       " ('executive', 97),\n",
       " ('principles', 96)]"
      ]
     },
     "execution_count": 12,
     "metadata": {},
     "output_type": "execute_result"
    }
   ],
   "source": [
    "wordsDist.most_common(10)"
   ]
  },
  {
   "cell_type": "code",
   "execution_count": 13,
   "metadata": {},
   "outputs": [],
   "source": [
    "# Create a dictionary with the 10 words as keys and their synonym list as values\n",
    "words10 = [t[0] for t in wordsDist.most_common(10)]\n",
    "word_synonym = {}\n",
    "for w in words10:\n",
    "    synonyms = []\n",
    "    for synset in wn.synsets(w):\n",
    "        for lemma_name in synset.lemma_names():\n",
    "            if lemma_name not in synonyms:\n",
    "                synonyms.append(lemma_name)\n",
    "    word_synonym[w] = synonyms"
   ]
  },
  {
   "cell_type": "markdown",
   "metadata": {},
   "source": [
    "#### List all synonyms for those 10 words"
   ]
  },
  {
   "cell_type": "code",
   "execution_count": 14,
   "metadata": {},
   "outputs": [
    {
     "data": {
      "text/plain": [
       "{'government': ['government',\n",
       "  'authorities',\n",
       "  'regime',\n",
       "  'governing',\n",
       "  'governance',\n",
       "  'government_activity',\n",
       "  'administration',\n",
       "  'politics',\n",
       "  'political_science'],\n",
       " 'citizens': ['citizen'],\n",
       " 'constitution': ['fundamental_law',\n",
       "  'organic_law',\n",
       "  'constitution',\n",
       "  'establishment',\n",
       "  'formation',\n",
       "  'organization',\n",
       "  'organisation',\n",
       "  'United_States_Constitution',\n",
       "  'U.S._Constitution',\n",
       "  'US_Constitution',\n",
       "  'Constitution',\n",
       "  'Constitution_of_the_United_States',\n",
       "  'composition',\n",
       "  'physical_composition',\n",
       "  'makeup',\n",
       "  'make-up',\n",
       "  'Old_Ironsides'],\n",
       " 'american': ['American', 'American_English', 'American_language'],\n",
       " 'national': ['national', 'subject', 'home', 'interior', 'internal'],\n",
       " 'congress': ['Congress',\n",
       "  'United_States_Congress',\n",
       "  'U.S._Congress',\n",
       "  'US_Congress',\n",
       "  'congress',\n",
       "  'sexual_intercourse',\n",
       "  'intercourse',\n",
       "  'sex_act',\n",
       "  'copulation',\n",
       "  'coitus',\n",
       "  'coition',\n",
       "  'sexual_congress',\n",
       "  'sexual_relation',\n",
       "  'relation',\n",
       "  'carnal_knowledge'],\n",
       " 'interests': ['interest',\n",
       "  'involvement',\n",
       "  'sake',\n",
       "  'interestingness',\n",
       "  'stake',\n",
       "  'interest_group',\n",
       "  'pastime',\n",
       "  'pursuit',\n",
       "  'concern',\n",
       "  'occupy',\n",
       "  'worry',\n",
       "  'matter_to'],\n",
       " 'political': ['political'],\n",
       " 'executive': ['executive', 'executive_director', 'administrator'],\n",
       " 'principles': ['principle', 'rule', 'precept', 'rationale']}"
      ]
     },
     "execution_count": 14,
     "metadata": {},
     "output_type": "execute_result"
    }
   ],
   "source": [
    "word_synonym"
   ]
  },
  {
   "cell_type": "markdown",
   "metadata": {},
   "source": [
    "#### Words has the largest number of synonyms - constitution"
   ]
  },
  {
   "cell_type": "code",
   "execution_count": 15,
   "metadata": {},
   "outputs": [
    {
     "data": {
      "text/plain": [
       "[('constitution', 17),\n",
       " ('congress', 15),\n",
       " ('interests', 12),\n",
       " ('government', 9),\n",
       " ('national', 5),\n",
       " ('principles', 4),\n",
       " ('american', 3),\n",
       " ('executive', 3),\n",
       " ('citizens', 1),\n",
       " ('political', 1)]"
      ]
     },
     "execution_count": 15,
     "metadata": {},
     "output_type": "execute_result"
    }
   ],
   "source": [
    "sorted([(k,len(v)) for k,v in word_synonym.items()], key=lambda x: x[1], reverse = True)"
   ]
  },
  {
   "cell_type": "code",
   "execution_count": 16,
   "metadata": {},
   "outputs": [],
   "source": [
    "word_hyponym = {}\n",
    "for w in words10:\n",
    "    hyponyms = []\n",
    "    for synset in wn.synsets(w):\n",
    "        for lemma_name in synset.hyponyms():\n",
    "            if lemma_name not in hyponyms:\n",
    "                hyponyms.append(lemma_name)\n",
    "    word_hyponym[w] = hyponyms"
   ]
  },
  {
   "cell_type": "markdown",
   "metadata": {},
   "source": [
    "#### List all hyponyms of those 10 most frequently used “long” words."
   ]
  },
  {
   "cell_type": "code",
   "execution_count": 17,
   "metadata": {},
   "outputs": [
    {
     "data": {
      "text/plain": [
       "{'government': [Synset('ancien_regime.n.01'),\n",
       "  Synset('authoritarian_state.n.01'),\n",
       "  Synset('bureaucracy.n.02'),\n",
       "  Synset('court.n.03'),\n",
       "  Synset('downing_street.n.02'),\n",
       "  Synset('empire.n.02'),\n",
       "  Synset('federal_government.n.01'),\n",
       "  Synset('government-in-exile.n.01'),\n",
       "  Synset('local_government.n.01'),\n",
       "  Synset('military_government.n.01'),\n",
       "  Synset('palace.n.02'),\n",
       "  Synset('papacy.n.01'),\n",
       "  Synset('puppet_government.n.01'),\n",
       "  Synset('state.n.03'),\n",
       "  Synset('state_government.n.01'),\n",
       "  Synset('totalitarian_state.n.01'),\n",
       "  Synset('legislation.n.02'),\n",
       "  Synset('misgovernment.n.01'),\n",
       "  Synset('trust_busting.n.01'),\n",
       "  Synset('geopolitics.n.01'),\n",
       "  Synset('realpolitik.n.01')],\n",
       " 'citizens': [Synset('active_citizen.n.01'),\n",
       "  Synset('civilian.n.01'),\n",
       "  Synset('freeman.n.01'),\n",
       "  Synset('private_citizen.n.01'),\n",
       "  Synset('repatriate.n.01'),\n",
       "  Synset('thane.n.02'),\n",
       "  Synset('voter.n.01')],\n",
       " 'constitution': [Synset('collectivization.n.01'),\n",
       "  Synset('colonization.n.01'),\n",
       "  Synset('communization.n.02'),\n",
       "  Synset('federation.n.03'),\n",
       "  Synset('unionization.n.01'),\n",
       "  Synset('genotype.n.02'),\n",
       "  Synset('karyotype.n.01'),\n",
       "  Synset('phenotype.n.01'),\n",
       "  Synset('structure.n.02'),\n",
       "  Synset('texture.n.05')],\n",
       " 'american': [Synset('african-american.n.01'),\n",
       "  Synset('alabaman.n.01'),\n",
       "  Synset('alaskan.n.01'),\n",
       "  Synset('anglo-american.n.01'),\n",
       "  Synset('appalachian.n.01'),\n",
       "  Synset('arizonan.n.01'),\n",
       "  Synset('arkansan.n.01'),\n",
       "  Synset('asian_american.n.01'),\n",
       "  Synset('bay_stater.n.01'),\n",
       "  Synset('bostonian.n.01'),\n",
       "  Synset('californian.n.01'),\n",
       "  Synset('carolinian.n.01'),\n",
       "  Synset('coloradan.n.01'),\n",
       "  Synset('connecticuter.n.01'),\n",
       "  Synset('creole.n.02'),\n",
       "  Synset('delawarean.n.01'),\n",
       "  Synset('floridian.n.01'),\n",
       "  Synset('franco-american.n.01'),\n",
       "  Synset('georgian.n.01'),\n",
       "  Synset('german_american.n.01'),\n",
       "  Synset('hawaiian.n.02'),\n",
       "  Synset('idahoan.n.01'),\n",
       "  Synset('illinoisan.n.01'),\n",
       "  Synset('indianan.n.01'),\n",
       "  Synset('iowan.n.01'),\n",
       "  Synset('kansan.n.01'),\n",
       "  Synset('kentuckian.n.01'),\n",
       "  Synset('louisianan.n.01'),\n",
       "  Synset('mainer.n.01'),\n",
       "  Synset('marylander.n.01'),\n",
       "  Synset('michigander.n.01'),\n",
       "  Synset('minnesotan.n.01'),\n",
       "  Synset('mississippian.n.02'),\n",
       "  Synset('missourian.n.01'),\n",
       "  Synset('montanan.n.01'),\n",
       "  Synset('nebraskan.n.01'),\n",
       "  Synset('nevadan.n.01'),\n",
       "  Synset('new_englander.n.01'),\n",
       "  Synset('new_hampshirite.n.01'),\n",
       "  Synset('new_jerseyan.n.01'),\n",
       "  Synset('new_mexican.n.01'),\n",
       "  Synset('new_yorker.n.01'),\n",
       "  Synset('nisei.n.01'),\n",
       "  Synset('north_carolinian.n.01'),\n",
       "  Synset('north_dakotan.n.01'),\n",
       "  Synset('ohioan.n.01'),\n",
       "  Synset('oklahoman.n.01'),\n",
       "  Synset('oregonian.n.01'),\n",
       "  Synset('pennsylvanian.n.02'),\n",
       "  Synset('puerto_rican.n.01'),\n",
       "  Synset('rhode_islander.n.01'),\n",
       "  Synset('south_carolinian.n.01'),\n",
       "  Synset('south_dakotan.n.01'),\n",
       "  Synset('southerner.n.01'),\n",
       "  Synset('spanish_american.n.01'),\n",
       "  Synset('tennessean.n.01'),\n",
       "  Synset('texan.n.01'),\n",
       "  Synset('tory.n.01'),\n",
       "  Synset('utahan.n.01'),\n",
       "  Synset('vermonter.n.01'),\n",
       "  Synset('virginian.n.01'),\n",
       "  Synset('washingtonian.n.01'),\n",
       "  Synset('washingtonian.n.02'),\n",
       "  Synset('west_virginian.n.01'),\n",
       "  Synset('wisconsinite.n.01'),\n",
       "  Synset('wyomingite.n.01'),\n",
       "  Synset('yankee.n.01'),\n",
       "  Synset('yankee.n.03'),\n",
       "  Synset('african_american_vernacular_english.n.01'),\n",
       "  Synset('creole.n.01'),\n",
       "  Synset('latin_american.n.01'),\n",
       "  Synset('mesoamerican.n.01'),\n",
       "  Synset('north_american.n.01'),\n",
       "  Synset('south_american.n.01'),\n",
       "  Synset('west_indian.n.01')],\n",
       " 'national': [Synset('citizen.n.01'),\n",
       "  Synset('compatriot.n.01'),\n",
       "  Synset('patriot.n.01')],\n",
       " 'congress': [Synset('continental_congress.n.01'),\n",
       "  Synset('defloration.n.02'),\n",
       "  Synset('fuck.n.01'),\n",
       "  Synset('hank_panky.n.01'),\n",
       "  Synset('penetration.n.06'),\n",
       "  Synset('unlawful_carnal_knowledge.n.01')],\n",
       " 'interests': [Synset('concern.n.01'),\n",
       "  Synset('enthusiasm.n.03'),\n",
       "  Synset('behalf.n.02'),\n",
       "  Synset('charisma.n.01'),\n",
       "  Synset('color.n.02'),\n",
       "  Synset('newsworthiness.n.01'),\n",
       "  Synset('shrillness.n.01'),\n",
       "  Synset('topicality.n.01'),\n",
       "  Synset('compound_interest.n.01'),\n",
       "  Synset('simple_interest.n.01'),\n",
       "  Synset('controlling_interest.n.01'),\n",
       "  Synset('equity.n.02'),\n",
       "  Synset('fee.n.02'),\n",
       "  Synset('grubstake.n.01'),\n",
       "  Synset('insurable_interest.n.01'),\n",
       "  Synset('reversion.n.01'),\n",
       "  Synset('right.n.08'),\n",
       "  Synset('security_interest.n.01'),\n",
       "  Synset('terminable_interest.n.01'),\n",
       "  Synset('undivided_interest.n.01'),\n",
       "  Synset('vested_interest.n.01'),\n",
       "  Synset('special_interest.n.01'),\n",
       "  Synset('vested_interest.n.02'),\n",
       "  Synset('avocation.n.01'),\n",
       "  Synset('absorb.v.09'),\n",
       "  Synset('fascinate.v.02'),\n",
       "  Synset('intrigue.v.01')],\n",
       " 'political': [],\n",
       " 'executive': [Synset('corporate_executive.n.01'),\n",
       "  Synset('minister.n.02'),\n",
       "  Synset('rainmaker.n.01'),\n",
       "  Synset('surgeon_general.n.01'),\n",
       "  Synset('vice_president.n.01'),\n",
       "  Synset('bush_administration.n.01'),\n",
       "  Synset('bush_administration.n.02'),\n",
       "  Synset('carter_administration.n.01'),\n",
       "  Synset('clinton_administration.n.01'),\n",
       "  Synset('reagan_administration.n.01'),\n",
       "  Synset('commissioner.n.01'),\n",
       "  Synset('director_of_central_intelligence.n.01'),\n",
       "  Synset('prefect.n.01'),\n",
       "  Synset('secretary_general.n.01'),\n",
       "  Synset('triumvir.n.01')],\n",
       " 'principles': [Synset('feng_shui.n.01'),\n",
       "  Synset('pillar.n.01'),\n",
       "  Synset('yang.n.01'),\n",
       "  Synset('yin.n.01'),\n",
       "  Synset('accounting_principle.n.01'),\n",
       "  Synset('chivalry.n.02'),\n",
       "  Synset('ethic.n.01'),\n",
       "  Synset('hellenism.n.01'),\n",
       "  Synset('legal_principle.n.01'),\n",
       "  Synset('scruple.n.03'),\n",
       "  Synset('conservation.n.03'),\n",
       "  Synset('dictate.n.02'),\n",
       "  Synset('fundamentals.n.01'),\n",
       "  Synset('insurrectionism.n.01'),\n",
       "  Synset('logic.n.03'),\n",
       "  Synset('pleasure_principle.n.01'),\n",
       "  Synset('reality_principle.n.01'),\n",
       "  Synset('tao.n.02'),\n",
       "  Synset('gestalt_law_of_organization.n.01'),\n",
       "  Synset('gresham's_law.n.01'),\n",
       "  Synset('le_chatelier's_principle.n.01'),\n",
       "  Synset('localization_of_function.n.01'),\n",
       "  Synset('mass-action_principle.n.01'),\n",
       "  Synset('mass-energy_equivalence.n.01'),\n",
       "  Synset('naegele's_rule.n.01'),\n",
       "  Synset('occam's_razor.n.01'),\n",
       "  Synset('principle_of_equivalence.n.01'),\n",
       "  Synset('principle_of_liquid_displacement.n.01'),\n",
       "  Synset('principle_of_superposition.n.01'),\n",
       "  Synset('principle_of_superposition.n.02'),\n",
       "  Synset('caveat_emptor.n.01'),\n",
       "  Synset('higher_law.n.01'),\n",
       "  Synset('hypothetical_imperative.n.01'),\n",
       "  Synset('moral_principle.n.02'),\n",
       "  Synset('dialectics.n.01')]}"
      ]
     },
     "execution_count": 17,
     "metadata": {},
     "output_type": "execute_result"
    }
   ],
   "source": [
    "word_hyponym"
   ]
  },
  {
   "cell_type": "markdown",
   "metadata": {},
   "source": [
    "#### The word that has the largest number of hyponyms - american"
   ]
  },
  {
   "cell_type": "code",
   "execution_count": 18,
   "metadata": {},
   "outputs": [
    {
     "data": {
      "text/plain": [
       "[('american', 75),\n",
       " ('principles', 35),\n",
       " ('interests', 27),\n",
       " ('government', 21),\n",
       " ('executive', 15),\n",
       " ('constitution', 10),\n",
       " ('citizens', 7),\n",
       " ('congress', 6),\n",
       " ('national', 3),\n",
       " ('political', 0)]"
      ]
     },
     "execution_count": 18,
     "metadata": {},
     "output_type": "execute_result"
    }
   ],
   "source": [
    "sorted([(k,len(v)) for k,v in word_hyponym.items()], key=lambda x: x[1], reverse = True)"
   ]
  },
  {
   "cell_type": "markdown",
   "metadata": {},
   "source": [
    "### Problem 3. "
   ]
  },
  {
   "cell_type": "markdown",
   "metadata": {},
   "source": [
    "Consider 100 points along the straight line in (x,y) plane represented by the linear equation y = 0.3x + 0.2. Distribute those points along the line uniformly in the interval between -2.0 and 3.0. To the y coordinate of each point add a random normally distributed value with standard deviation of 1 and mean 0. You have created and artificial set of random measurements. Create a shallow neural network with one layer which will be able to predict y value corresponding to any x value in the above interval. Implement and train the network using Keras API. Report on the accuracy of your model. This is a rather trivial problem and you do not need neural networks to solve it. We are practicing Keras API."
   ]
  },
  {
   "cell_type": "code",
   "execution_count": 19,
   "metadata": {},
   "outputs": [],
   "source": [
    "random.seed(100)\n",
    "# Generate data points, use 1000 data points instead of 100 for higher accuracy\n",
    "num_points=1000\n",
    "x = np.linspace(-2,3,num_points)\n",
    "# Add noise, scale is changed to 0.1 to lower noise\n",
    "noise = np.random.normal(loc=0.0, scale=0.1, size=num_points)\n",
    "y = 0.3*x + 0.2 + noise"
   ]
  },
  {
   "cell_type": "code",
   "execution_count": 20,
   "metadata": {},
   "outputs": [
    {
     "data": {
      "text/plain": [
       "[<matplotlib.lines.Line2D at 0x11a49a668>]"
      ]
     },
     "execution_count": 20,
     "metadata": {},
     "output_type": "execute_result"
    },
    {
     "data": {
      "image/png": "[encoded data removed]",
      "text/plain": [
       "<Figure size 432x288 with 1 Axes>"
      ]
     },
     "metadata": {
      "needs_background": "light"
     },
     "output_type": "display_data"
    }
   ],
   "source": [
    "# Take a look\n",
    "plt.scatter(x,y,alpha =.5)\n",
    "plt.plot(x,0.3*x + 0.2, color = \"skyblue\", linewidth = 4)"
   ]
  },
  {
   "cell_type": "code",
   "execution_count": 21,
   "metadata": {},
   "outputs": [
    {
     "name": "stderr",
     "output_type": "stream",
     "text": [
      "WARNING: Logging before flag parsing goes to stderr.\n",
      "W0703 20:45:04.566598 4420482496 deprecation_wrapper.py:119] From /anaconda3/envs/pytf/lib/python3.6/site-packages/keras/backend/tensorflow_backend.py:74: The name tf.get_default_graph is deprecated. Please use tf.compat.v1.get_default_graph instead.\n",
      "\n",
      "W0703 20:45:04.580107 4420482496 deprecation_wrapper.py:119] From /anaconda3/envs/pytf/lib/python3.6/site-packages/keras/backend/tensorflow_backend.py:517: The name tf.placeholder is deprecated. Please use tf.compat.v1.placeholder instead.\n",
      "\n",
      "W0703 20:45:04.583147 4420482496 deprecation_wrapper.py:119] From /anaconda3/envs/pytf/lib/python3.6/site-packages/keras/backend/tensorflow_backend.py:4138: The name tf.random_uniform is deprecated. Please use tf.random.uniform instead.\n",
      "\n"
     ]
    },
    {
     "name": "stdout",
     "output_type": "stream",
     "text": [
      "_________________________________________________________________\n",
      "Layer (type)                 Output Shape              Param #   \n",
      "=================================================================\n",
      "dense_1 (Dense)              (None, 20)                40        \n",
      "_________________________________________________________________\n",
      "activation_1 (Activation)    (None, 20)                0         \n",
      "_________________________________________________________________\n",
      "dense_2 (Dense)              (None, 1)                 21        \n",
      "_________________________________________________________________\n",
      "activation_2 (Activation)    (None, 1)                 0         \n",
      "=================================================================\n",
      "Total params: 61\n",
      "Trainable params: 61\n",
      "Non-trainable params: 0\n",
      "_________________________________________________________________\n"
     ]
    }
   ],
   "source": [
    "# MODEL IS BUILD HERE\n",
    "# 1 LAYER SIMPLE NEURAL NETWORK\n",
    "#############################################\n",
    "\n",
    "#we add the layers in sequential form\n",
    "one_model = Sequential()\n",
    "\n",
    "#first hidden layer with 20 neurons\n",
    "one_model.add(Dense(20, input_shape=(1,)))\n",
    "\n",
    "#relu nonlinear activation function is chosen\n",
    "one_model.add(Activation('linear'))\n",
    "\n",
    "#output layer\n",
    "one_model.add(Dense(1))\n",
    "\n",
    "#Use a linear activation function is chosen\n",
    "one_model.add(Activation('linear'))\n",
    "\n",
    "#show the whole model architecture          \n",
    "one_model.summary()\n",
    "############################################\n",
    "\n",
    "\n"
   ]
  },
  {
   "cell_type": "code",
   "execution_count": 22,
   "metadata": {},
   "outputs": [
    {
     "name": "stdout",
     "output_type": "stream",
     "text": [
      "(1000,)\n",
      "(800,)\n",
      "(1000,)\n",
      "(800,)\n"
     ]
    }
   ],
   "source": [
    "#split the data into training and validation set with 80%, 20% respectively\n",
    "#x_coordinates = np.stack((x, y1), axis=-1)\n",
    "#y_coordinates = np.stack()\n",
    "train_x1, val_x1, train_y1, val_y1 = train_test_split(x,y, test_size=0.2, random_state=42,shuffle=True)\n",
    "\n",
    "print(x.shape)\n",
    "print(train_x1.shape)\n",
    "print(y.shape)\n",
    "print(train_y1.shape)\n",
    "\n"
   ]
  },
  {
   "cell_type": "markdown",
   "metadata": {},
   "source": [
    "#### Take a look at training dataset"
   ]
  },
  {
   "cell_type": "code",
   "execution_count": 23,
   "metadata": {},
   "outputs": [
    {
     "data": {
      "text/plain": [
       "<matplotlib.collections.PathCollection at 0x136c56278>"
      ]
     },
     "execution_count": 23,
     "metadata": {},
     "output_type": "execute_result"
    },
    {
     "data": {
      "image/png": "[encoded data removed]",
      "text/plain": [
       "<Figure size 432x288 with 1 Axes>"
      ]
     },
     "metadata": {
      "needs_background": "light"
     },
     "output_type": "display_data"
    }
   ],
   "source": [
    "plt.scatter(train_x1, train_y1)"
   ]
  },
  {
   "cell_type": "markdown",
   "metadata": {},
   "source": [
    "#### Take a look at validation dataset"
   ]
  },
  {
   "cell_type": "code",
   "execution_count": 24,
   "metadata": {},
   "outputs": [
    {
     "data": {
      "text/plain": [
       "<matplotlib.collections.PathCollection at 0x136cba438>"
      ]
     },
     "execution_count": 24,
     "metadata": {},
     "output_type": "execute_result"
    },
    {
     "data": {
      "image/png": "[encoded data removed]",
      "text/plain": [
       "<Figure size 432x288 with 1 Axes>"
      ]
     },
     "metadata": {
      "needs_background": "light"
     },
     "output_type": "display_data"
    }
   ],
   "source": [
    "plt.scatter(val_x1,val_y1)"
   ]
  },
  {
   "cell_type": "code",
   "execution_count": 25,
   "metadata": {},
   "outputs": [
    {
     "name": "stderr",
     "output_type": "stream",
     "text": [
      "W0703 20:45:05.003534 4420482496 deprecation_wrapper.py:119] From /anaconda3/envs/pytf/lib/python3.6/site-packages/keras/optimizers.py:790: The name tf.train.Optimizer is deprecated. Please use tf.compat.v1.train.Optimizer instead.\n",
      "\n",
      "W0703 20:45:05.095470 4420482496 deprecation_wrapper.py:119] From /anaconda3/envs/pytf/lib/python3.6/site-packages/keras/backend/tensorflow_backend.py:986: The name tf.assign_add is deprecated. Please use tf.compat.v1.assign_add instead.\n",
      "\n",
      "W0703 20:45:05.144549 4420482496 deprecation_wrapper.py:119] From /anaconda3/envs/pytf/lib/python3.6/site-packages/keras/backend/tensorflow_backend.py:973: The name tf.assign is deprecated. Please use tf.compat.v1.assign instead.\n",
      "\n"
     ]
    },
    {
     "name": "stdout",
     "output_type": "stream",
     "text": [
      "Train on 800 samples, validate on 200 samples\n",
      "Epoch 1/10\n",
      "800/800 [==============================] - 0s 190us/step - loss: 0.8274 - mean_absolute_error: 0.7549 - val_loss: 0.7009 - val_mean_absolute_error: 0.6911\n",
      "Epoch 2/10\n",
      "800/800 [==============================] - 0s 12us/step - loss: 0.6191 - mean_absolute_error: 0.6528 - val_loss: 0.5107 - val_mean_absolute_error: 0.5911\n",
      "Epoch 3/10\n",
      "800/800 [==============================] - 0s 11us/step - loss: 0.4447 - mean_absolute_error: 0.5535 - val_loss: 0.3575 - val_mean_absolute_error: 0.4961\n",
      "Epoch 4/10\n",
      "800/800 [==============================] - 0s 10us/step - loss: 0.3075 - mean_absolute_error: 0.4599 - val_loss: 0.2400 - val_mean_absolute_error: 0.4081\n",
      "Epoch 5/10\n",
      "800/800 [==============================] - 0s 11us/step - loss: 0.2046 - mean_absolute_error: 0.3755 - val_loss: 0.1547 - val_mean_absolute_error: 0.3288\n",
      "Epoch 6/10\n",
      "800/800 [==============================] - 0s 11us/step - loss: 0.1298 - mean_absolute_error: 0.2992 - val_loss: 0.0960 - val_mean_absolute_error: 0.2595\n",
      "Epoch 7/10\n",
      "800/800 [==============================] - 0s 10us/step - loss: 0.0801 - mean_absolute_error: 0.2359 - val_loss: 0.0582 - val_mean_absolute_error: 0.2018\n",
      "Epoch 8/10\n",
      "800/800 [==============================] - 0s 12us/step - loss: 0.0490 - mean_absolute_error: 0.1833 - val_loss: 0.0346 - val_mean_absolute_error: 0.1542\n",
      "Epoch 9/10\n",
      "800/800 [==============================] - 0s 11us/step - loss: 0.0298 - mean_absolute_error: 0.1423 - val_loss: 0.0216 - val_mean_absolute_error: 0.1190\n",
      "Epoch 10/10\n",
      "800/800 [==============================] - 0s 11us/step - loss: 0.0198 - mean_absolute_error: 0.1153 - val_loss: 0.0151 - val_mean_absolute_error: 0.0973\n"
     ]
    }
   ],
   "source": [
    "#OPTIMIZATION PARAMETERS ARE CONFIGURED HERE. THE MODEL IS TRAINED ALSO\n",
    "#############################################\n",
    "\n",
    "#Adam optimize is chosen\n",
    "#loss function is chosen as mean squared error as it's a regression problem\n",
    "#we want also show the results in accurucy results \n",
    "\n",
    "one_model.compile(optimizer='adam', loss='mean_squared_error',  metrics=['mae'])\n",
    "\n",
    "#train the model\n",
    "history = one_model.fit(train_x1,train_y1,\n",
    "                    batch_size=128,\n",
    "                    epochs=10,\n",
    "                    validation_data=(val_x1, val_y1))"
   ]
  },
  {
   "cell_type": "code",
   "execution_count": 26,
   "metadata": {},
   "outputs": [],
   "source": [
    "pred_y1= one_model.predict(val_x1)"
   ]
  },
  {
   "cell_type": "code",
   "execution_count": 27,
   "metadata": {},
   "outputs": [
    {
     "data": {
      "text/plain": [
       "<matplotlib.collections.PathCollection at 0x13c8046d8>"
      ]
     },
     "execution_count": 27,
     "metadata": {},
     "output_type": "execute_result"
    },
    {
     "data": {
      "image/png": "[encoded data removed]",
      "text/plain": [
       "<Figure size 432x288 with 1 Axes>"
      ]
     },
     "metadata": {
      "needs_background": "light"
     },
     "output_type": "display_data"
    }
   ],
   "source": [
    "plt.plot(val_x1,pred_y1,'blue')\n",
    "plt.scatter(val_x1,val_y1)\n",
    "plt.scatter(x, 0.3*x+0.2, color = \"yellow\", linewidth = 2,alpha = .5)"
   ]
  },
  {
   "cell_type": "markdown",
   "metadata": {},
   "source": [
    "#### Both the model history and the plot above shows that the model performs well. The blue line is created with the validation data set and predicted value on the validation dataset.  The red points are noisy validation data. The yellow line is the true equation without adding noise. The blue line and the yellow line almost overlaps, indicating good fitted results."
   ]
  },
  {
   "cell_type": "markdown",
   "metadata": {},
   "source": [
    "### Problem 4. "
   ]
  },
  {
   "cell_type": "markdown",
   "metadata": {},
   "source": [
    "Consider three points in (x,y) plane with coordinates (-2,0), (0,1.7) and (2.1,0). Around each of those three centers create a cloud of 100 randomly generated points. For the radial distance of any one of those points from its center use a random normal distribution.  For the angular coordinate of any one of “cloud” points use the uniform distribution. Once you have generated all three sets of cloud points plot them in the same diagram using three different colors. There should exist some overlap between the clouds. Create a two-layer neural network. Use Keras API. Fit a model that could predict whether a randomly generated point in the plane belongs to cloud 1, centered around (-2,0), cloud 2, centered around (0,1.7) or cloud 3, centered around (2.1,0). You can make that prediction in a much simpler way, however, we are practicing Keras API."
   ]
  },
  {
   "cell_type": "code",
   "execution_count": 28,
   "metadata": {},
   "outputs": [],
   "source": [
    "# Generate random data points\n",
    "random.seed(1024)\n",
    "\n",
    "#this is the number of points in each cloud\n",
    "cloud_points=100\n",
    "\n",
    "#the center of the clouds are:\n",
    "center1 = [-2, 0]\n",
    "center2 = [0, 1.7]\n",
    "center3 = [2.1, 0]\n",
    "\n",
    "# Sample 100 'r' from normal distribution and 100 'theta' from uniform distribution of 0 and 2*pi. \n",
    "# Then, create 100 points in Cartesian Coordinate System\n",
    "\n",
    "# radial and angular parameters\n",
    "mean = 0\n",
    "sigma = 1.5\n",
    "low = 0\n",
    "high = 2*np.pi\n",
    "\n",
    "#cloud samples for the cloud 1\n",
    "r1=np.random.normal(mean, sigma, cloud_points)\n",
    "theta1 = np.random.uniform(low, high, cloud_points)\n",
    "#cloud samples for the cloud 2\n",
    "r2=np.random.normal(mean, sigma,cloud_points)\n",
    "theta2 = np.random.uniform(low,high, cloud_points)\n",
    "#cloud samples for the cloud 3\n",
    "r3=np.random.normal(mean, sigma, cloud_points)\n",
    "theta3 = np.random.uniform(low,high, cloud_points)\n",
    "\n",
    "# calculate x and y\n",
    "x1 = center1[0] + r1*np.cos(theta1)\n",
    "y1 = center1[1]+ r1*np.sin(theta1)\n",
    "x2 = center2[0] + r2*np.cos(theta2)\n",
    "y2 = center2[1]+ r2*np.sin(theta2)\n",
    "x3 = center3[0] + r3*np.cos(theta3)\n",
    "y3 = center3[1]+ r3*np.sin(theta3)"
   ]
  },
  {
   "cell_type": "code",
   "execution_count": 29,
   "metadata": {},
   "outputs": [
    {
     "data": {
      "image/png": "[encoded data removed]",
      "text/plain": [
       "<Figure size 432x288 with 1 Axes>"
      ]
     },
     "metadata": {
      "needs_background": "light"
     },
     "output_type": "display_data"
    }
   ],
   "source": [
    "#visualize the clouds in 2-dimensional plot\n",
    "#cloud 1 \n",
    "plt.scatter(x1,y1)\n",
    "#cloud 2 \n",
    "plt.scatter(x2,y2)\n",
    "#cloud 3 \n",
    "plt.scatter(x3,y3)\n",
    "\n",
    "\n",
    "#plot them\n",
    "plt.show()"
   ]
  },
  {
   "cell_type": "markdown",
   "metadata": {},
   "source": [
    "#### There're overlapped points indeed, good to go."
   ]
  },
  {
   "cell_type": "code",
   "execution_count": 30,
   "metadata": {},
   "outputs": [],
   "source": [
    "#class labels for each cloud point (without using one hot encoding)\n",
    "Y1 = np.tile(np.array([1,0,0]), (100,1))\n",
    "Y2 = np.tile(np.array([0,1,0]), (100,1))\n",
    "Y3 = np.tile(np.array([0,0,1]), (100,1))"
   ]
  },
  {
   "cell_type": "code",
   "execution_count": 31,
   "metadata": {},
   "outputs": [],
   "source": [
    "# Stack coordinates\n",
    "X1 = np.stack((x1, y1), axis=-1)\n",
    "X2 = np.stack((x2, y2), axis=-1)\n",
    "X3 = np.stack((x3, y3), axis=-1)"
   ]
  },
  {
   "cell_type": "code",
   "execution_count": 32,
   "metadata": {},
   "outputs": [],
   "source": [
    "#perform one aggregated input tensor\n",
    "X=np.concatenate([X1,X2,X3],axis=0)\n",
    "#perform one aggregated output tensor\n",
    "Y=np.vstack([Y1,Y2,Y3])"
   ]
  },
  {
   "cell_type": "code",
   "execution_count": 33,
   "metadata": {},
   "outputs": [
    {
     "name": "stdout",
     "output_type": "stream",
     "text": [
      "(300, 2)\n",
      "(240, 2)\n",
      "(300, 3)\n",
      "(240, 3)\n"
     ]
    }
   ],
   "source": [
    "#split the data into training and validation set with 80%, 20% respectively\n",
    "train_x, val_x, train_y, val_y = train_test_split( X,Y, test_size=0.2, random_state=42,shuffle=True)\n",
    "\n",
    "print(X.shape)\n",
    "print(train_x.shape)\n",
    "print(Y.shape)\n",
    "print(train_y.shape)\n"
   ]
  },
  {
   "cell_type": "code",
   "execution_count": 34,
   "metadata": {},
   "outputs": [
    {
     "name": "stdout",
     "output_type": "stream",
     "text": [
      "_________________________________________________________________\n",
      "Layer (type)                 Output Shape              Param #   \n",
      "=================================================================\n",
      "dense_3 (Dense)              (None, 50)                150       \n",
      "_________________________________________________________________\n",
      "activation_3 (Activation)    (None, 50)                0         \n",
      "_________________________________________________________________\n",
      "dense_4 (Dense)              (None, 50)                2550      \n",
      "_________________________________________________________________\n",
      "activation_4 (Activation)    (None, 50)                0         \n",
      "_________________________________________________________________\n",
      "dense_5 (Dense)              (None, 3)                 153       \n",
      "_________________________________________________________________\n",
      "activation_5 (Activation)    (None, 3)                 0         \n",
      "=================================================================\n",
      "Total params: 2,853\n",
      "Trainable params: 2,853\n",
      "Non-trainable params: 0\n",
      "_________________________________________________________________\n"
     ]
    }
   ],
   "source": [
    "# MODEL IS BUILD HERE\n",
    "# 2 LAYER SIMPLE NEURAL NETWORK\n",
    "#############################################\n",
    "\n",
    "#we add the layers in sequential form\n",
    "model = Sequential()\n",
    "\n",
    "#first hidden layer with 50 neurons, 2-D coordinates\n",
    "model.add(Dense(50, input_shape=(2,)))\n",
    "\n",
    "#relu nonlinear activation function is chosen\n",
    "model.add(Activation('relu'))\n",
    "\n",
    "#second hidden layer with 50 neurons\n",
    "model.add(Dense(50))\n",
    "\n",
    "#relu nonlinear activation function is chosen\n",
    "model.add(Activation('relu'))\n",
    "\n",
    "#output layer - 3 Classes\n",
    "model.add(Dense(3))\n",
    "\n",
    "#softmax nonlinear activation function is chosen\n",
    "model.add(Activation('softmax'))\n",
    "\n",
    "#show the whole model architecture          \n",
    "model.summary()\n",
    "############################################\n",
    "\n"
   ]
  },
  {
   "cell_type": "code",
   "execution_count": 35,
   "metadata": {},
   "outputs": [
    {
     "name": "stderr",
     "output_type": "stream",
     "text": [
      "W0703 20:45:05.974200 4420482496 deprecation.py:323] From /anaconda3/envs/pytf/lib/python3.6/site-packages/tensorflow/python/ops/math_grad.py:1250: add_dispatch_support.<locals>.wrapper (from tensorflow.python.ops.array_ops) is deprecated and will be removed in a future version.\n",
      "Instructions for updating:\n",
      "Use tf.where in 2.0, which has the same broadcast rule as np.where\n"
     ]
    },
    {
     "name": "stdout",
     "output_type": "stream",
     "text": [
      "Train on 240 samples, validate on 60 samples\n",
      "Epoch 1/5\n",
      "240/240 [==============================] - 0s 911us/step - loss: 0.9528 - acc: 0.6167 - val_loss: 0.8395 - val_acc: 0.7667\n",
      "Epoch 2/5\n",
      "240/240 [==============================] - 0s 50us/step - loss: 0.8300 - acc: 0.7417 - val_loss: 0.7355 - val_acc: 0.8833\n",
      "Epoch 3/5\n",
      "240/240 [==============================] - 0s 48us/step - loss: 0.7301 - acc: 0.8333 - val_loss: 0.6514 - val_acc: 0.8833\n",
      "Epoch 4/5\n",
      "240/240 [==============================] - 0s 37us/step - loss: 0.6422 - acc: 0.8542 - val_loss: 0.5816 - val_acc: 0.9000\n",
      "Epoch 5/5\n",
      "240/240 [==============================] - 0s 37us/step - loss: 0.5634 - acc: 0.8500 - val_loss: 0.5236 - val_acc: 0.9000\n"
     ]
    }
   ],
   "source": [
    "#OPTIMIZATION PARAMETERS ARE CONFIGURED HERE. THE MODEL IS TRAINED ALSO\n",
    "#############################################\n",
    "\n",
    "#Adam optimize is chosen\n",
    "#loss function is chosen as categorical_crossentropy\n",
    "#we want also show the results in accurucy results \n",
    "model.compile(optimizer=Adam(), loss='categorical_crossentropy', metrics=['accuracy'])\n",
    "\n",
    "#train the model\n",
    "history = model.fit(train_x,train_y,\n",
    "                    batch_size=32,\n",
    "                    epochs=5,\n",
    "                    shuffle=True,\n",
    "                    verbose=1,\n",
    "                    validation_data=(val_x, val_y))"
   ]
  },
  {
   "cell_type": "code",
   "execution_count": 36,
   "metadata": {},
   "outputs": [],
   "source": [
    "#Plot the results for training and validation loss\n",
    "\n",
    "#history object preserves the loss value\n",
    "loss = history.history['loss']\n",
    "#history object preserves the validation loss value\n",
    "val_loss = history.history['val_loss']\n",
    "\n",
    "#number of epochs\n",
    "epochs = range(len(loss))"
   ]
  },
  {
   "cell_type": "code",
   "execution_count": 37,
   "metadata": {},
   "outputs": [
    {
     "data": {
      "image/png": "[encoded data removed]",
      "text/plain": [
       "<Figure size 432x288 with 1 Axes>"
      ]
     },
     "metadata": {
      "needs_background": "light"
     },
     "output_type": "display_data"
    }
   ],
   "source": [
    "plt.figure()\n",
    "\n",
    "#training loss\n",
    "plt.plot(epochs, loss, 'bo', label='Training loss')\n",
    "#validation loss\n",
    "plt.plot(epochs, val_loss, 'b', label='Validation loss')\n",
    "#we add title\n",
    "plt.title('Training and validation loss')\n",
    "\n",
    "#we add legends\n",
    "plt.legend()\n",
    "#finally plot\n",
    "plt.show()"
   ]
  },
  {
   "cell_type": "code",
   "execution_count": 38,
   "metadata": {},
   "outputs": [
    {
     "data": {
      "text/plain": [
       "array([[0.08129957, 0.17736168, 0.74133873],\n",
       "       [0.0175263 , 0.09106655, 0.89140713],\n",
       "       [0.19076309, 0.5063516 , 0.30288532],\n",
       "       [0.7101119 , 0.14902218, 0.14086589],\n",
       "       [0.08692342, 0.20461358, 0.708463  ],\n",
       "       [0.01132054, 0.03754558, 0.9511339 ],\n",
       "       [0.1683254 , 0.5831497 , 0.24852496],\n",
       "       [0.04859041, 0.715731  , 0.23567861],\n",
       "       [0.39421362, 0.30444792, 0.30133846],\n",
       "       [0.09594262, 0.59874636, 0.305311  ],\n",
       "       [0.04229525, 0.1325705 , 0.8251343 ],\n",
       "       [0.58222026, 0.33212817, 0.08565158],\n",
       "       [0.0817403 , 0.1972817 , 0.720978  ],\n",
       "       [0.7910409 , 0.13845704, 0.07050208],\n",
       "       [0.27988616, 0.56508327, 0.15503052],\n",
       "       [0.09930132, 0.54909414, 0.3516045 ],\n",
       "       [0.38416493, 0.29676425, 0.3190708 ],\n",
       "       [0.03609566, 0.10026156, 0.86364275],\n",
       "       [0.0386355 , 0.16934583, 0.79201865],\n",
       "       [0.33161545, 0.40688875, 0.26149583],\n",
       "       [0.7421251 , 0.1809459 , 0.07692907],\n",
       "       [0.19284654, 0.5108111 , 0.2963423 ],\n",
       "       [0.30082527, 0.26073602, 0.43843874],\n",
       "       [0.07745338, 0.13854046, 0.7840062 ],\n",
       "       [0.1003533 , 0.55375475, 0.34589195],\n",
       "       [0.20330524, 0.23159245, 0.5651023 ],\n",
       "       [0.0621462 , 0.15413454, 0.78371924],\n",
       "       [0.02784807, 0.17760232, 0.7945496 ],\n",
       "       [0.30212224, 0.39639738, 0.3014804 ],\n",
       "       [0.03275437, 0.1505581 , 0.8166876 ],\n",
       "       [0.4469419 , 0.44242272, 0.11063531],\n",
       "       [0.00295274, 0.10290708, 0.89414024],\n",
       "       [0.75282955, 0.17184342, 0.07532699],\n",
       "       [0.64238864, 0.25713244, 0.10047896],\n",
       "       [0.02402057, 0.17690249, 0.7990769 ],\n",
       "       [0.2085591 , 0.41664132, 0.37479958],\n",
       "       [0.7230953 , 0.15934959, 0.11755511],\n",
       "       [0.5287848 , 0.25709212, 0.21412309],\n",
       "       [0.728526  , 0.19864276, 0.07283129],\n",
       "       [0.7058021 , 0.2070409 , 0.08715704],\n",
       "       [0.6490045 , 0.18192577, 0.16906968],\n",
       "       [0.61334777, 0.23506695, 0.15158531],\n",
       "       [0.06070912, 0.14002007, 0.7992708 ],\n",
       "       [0.6736874 , 0.19828326, 0.12802935],\n",
       "       [0.8026037 , 0.15862633, 0.03876986],\n",
       "       [0.92028123, 0.06231408, 0.01740473],\n",
       "       [0.1800901 , 0.2857998 , 0.53411007],\n",
       "       [0.05240869, 0.15614964, 0.79144174],\n",
       "       [0.26899776, 0.49273613, 0.23826617],\n",
       "       [0.05029941, 0.10843945, 0.8412611 ],\n",
       "       [0.19917075, 0.5297384 , 0.27109087],\n",
       "       [0.52019435, 0.38669175, 0.09311388],\n",
       "       [0.00903338, 0.03060732, 0.96035933],\n",
       "       [0.7040915 , 0.27035117, 0.02555733],\n",
       "       [0.09798339, 0.26603523, 0.6359813 ],\n",
       "       [0.02206533, 0.06403895, 0.91389567],\n",
       "       [0.5550882 , 0.34366092, 0.10125088],\n",
       "       [0.8290955 , 0.13468187, 0.03622269],\n",
       "       [0.19815938, 0.5168794 , 0.28496122],\n",
       "       [0.60813004, 0.3090191 , 0.08285087]], dtype=float32)"
      ]
     },
     "execution_count": 38,
     "metadata": {},
     "output_type": "execute_result"
    }
   ],
   "source": [
    "# Get predicted probabilities on validationd dataset\n",
    "model.predict(val_x)"
   ]
  },
  {
   "cell_type": "code",
   "execution_count": 39,
   "metadata": {},
   "outputs": [
    {
     "data": {
      "text/plain": [
       "array([2, 2, 1, 0, 2, 2, 1, 1, 0, 1, 2, 0, 2, 0, 1, 1, 0, 2, 2, 1, 0, 1,\n",
       "       2, 2, 1, 2, 2, 2, 1, 2, 0, 2, 0, 0, 2, 1, 0, 0, 0, 0, 0, 0, 2, 0,\n",
       "       0, 0, 2, 2, 1, 2, 1, 0, 2, 0, 2, 2, 0, 0, 1, 0])"
      ]
     },
     "execution_count": 39,
     "metadata": {},
     "output_type": "execute_result"
    }
   ],
   "source": [
    "# Get predicted classes on validationd dataset\n",
    "\n",
    "model.predict_classes(val_x)"
   ]
  },
  {
   "cell_type": "markdown",
   "metadata": {},
   "source": [
    "#### Combined with the probabilities above, cloud 1 is represented by 0, cloud 2 is represented by 1, cloud 3 is represented by 2"
   ]
  },
  {
   "cell_type": "code",
   "execution_count": 40,
   "metadata": {},
   "outputs": [],
   "source": [
    "# Generate new data in cloud 1, around center 1 \n",
    "random.seed(1023)\n",
    "#cloud samples for the cloud 1\n",
    "r1_new=np.random.normal(mean, sigma, cloud_points)\n",
    "theta1_new = np.random.uniform(low, high, cloud_points)\n",
    "# calculate x and y\n",
    "x1_new = center1[0] + r1_new*np.cos(theta1)\n",
    "y1_new = center1[1]+ r1_new*np.sin(theta1)\n",
    "X1_new = np.stack((x1_new, y1_new), axis=-1)"
   ]
  },
  {
   "cell_type": "code",
   "execution_count": 41,
   "metadata": {},
   "outputs": [
    {
     "data": {
      "text/plain": [
       "array([0, 0, 0, 0, 0, 0, 2, 0, 0, 0, 0, 0, 0, 0, 0, 0, 1, 0, 0, 0, 0, 0,\n",
       "       0, 0, 0, 0, 0, 0, 0, 0, 0, 0, 0, 0, 0, 0, 0, 0, 1, 0, 0, 0, 0, 0,\n",
       "       0, 0, 0, 0, 0, 0, 0, 2, 0, 0, 1, 0, 0, 0, 0, 0, 0, 0, 0, 0, 0, 0,\n",
       "       0, 0, 0, 0, 0, 0, 0, 0, 0, 0, 0, 0, 0, 0, 1, 0, 0, 0, 0, 0, 2, 0,\n",
       "       0, 0, 2, 0, 0, 0, 1, 0, 0, 0, 1, 0])"
      ]
     },
     "execution_count": 41,
     "metadata": {},
     "output_type": "execute_result"
    }
   ],
   "source": [
    "model.predict_classes(X1_new)"
   ]
  },
  {
   "cell_type": "markdown",
   "metadata": {},
   "source": [
    "#### The result on the new data is pretty good as most of the entries are 0 or cloud 1."
   ]
  }
 ],
 "metadata": {
  "kernelspec": {
   "display_name": "pytf",
   "language": "python",
   "name": "other-env"
  },
  "language_info": {
   "codemirror_mode": {
    "name": "ipython",
    "version": 3
   },
   "file_extension": ".py",
   "mimetype": "text/x-python",
   "name": "python",
   "nbconvert_exporter": "python",
   "pygments_lexer": "ipython3",
   "version": "3.6.1"
  }
 },
 "nbformat": 4,
 "nbformat_minor": 2
}
