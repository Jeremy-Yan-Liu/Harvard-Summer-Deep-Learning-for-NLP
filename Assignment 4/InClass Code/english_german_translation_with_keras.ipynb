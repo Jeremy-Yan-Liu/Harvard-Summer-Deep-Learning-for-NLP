{
 "cells": [
  {
   "cell_type": "markdown",
   "metadata": {},
   "source": [
    "# German to English Translation"
   ]
  },
  {
   "cell_type": "code",
   "execution_count": null,
   "metadata": {},
   "outputs": [],
   "source": []
  },
  {
   "attachments": {},
   "cell_type": "markdown",
   "metadata": {},
   "source": [
    "First, we must load the data in a way that preserves the Unicode German characters. The function below called `load doc()` will load the file as a blob of text."
   ]
  },
  {
   "cell_type": "code",
   "execution_count": 8,
   "metadata": {},
   "outputs": [],
   "source": [
    "import string\n",
    "import re\n",
    "from pickle import dump\n",
    "from unicodedata import normalize\n",
    "from numpy import array"
   ]
  },
  {
   "cell_type": "code",
   "execution_count": 19,
   "metadata": {},
   "outputs": [],
   "source": [
    "# load doc into memory\n",
    "def load_doc(filename):\n",
    "    # open the file as read only\n",
    "    file = open(filename, mode='rt', encoding='utf-8')\n",
    "    # read all text\n",
    "    text = file.read()\n",
    "    # close the file\n",
    "    file.close()\n",
    "    return text"
   ]
  },
  {
   "attachments": {},
   "cell_type": "markdown",
   "metadata": {},
   "source": [
    "Each line contains a single pair of phrases, first English and then German, separated by a tab character. We must split the loaded text by line and then by phrase. The function to `pairs()` below will split the loaded text."
   ]
  },
  {
   "cell_type": "code",
   "execution_count": 20,
   "metadata": {},
   "outputs": [],
   "source": [
    "# split a loaded document into sentences\n",
    "def to_pairs(doc):\n",
    "  lines = doc.strip().split('\\n')\n",
    "  pairs = [line.split('\\t') for line in lines]\n",
    "  return pairs"
   ]
  },
  {
   "attachments": {},
   "cell_type": "markdown",
   "metadata": {},
   "source": [
    "We are now ready to clean each sentence. \n",
    "We will perform the following specific cleaning operations:\n",
    "    Remove all non-printable characters.\n",
    "    Remove all punctuation characters.\n",
    "    Normalize all Unicode characters to ASCII (e.g. Latin characters).\n",
    "    Normalize the case to lowercase.\n",
    "    Remove any remaining tokens that are not alphabetic.\n",
    "We perform these operations on each phrase for each pair in the loaded dataset. \n",
    "Function `clean_pairs()` implements these operations."
   ]
  },
  {
   "cell_type": "code",
   "execution_count": 21,
   "metadata": {},
   "outputs": [],
   "source": [
    "# clean a list of lines\n",
    "def clean_pairs(lines):\n",
    "\tcleaned = list()\n",
    "\t# prepare regex for char filtering\n",
    "\tre_punc = re.compile('[%s]' % re.escape(string.punctuation))\n",
    "\tre_print = re.compile('[^%s]' % re.escape(string.printable))\n",
    "\tfor pair in lines:\n",
    "\t\tclean_pair = list()\n",
    "\t\tfor line in pair:\n",
    "\t\t\t# normalize unicode characters\n",
    "\t\t\tline = normalize('NFD', line).encode('ascii', 'ignore')\n",
    "\t\t\tline = line.decode('UTF-8')\n",
    "\t\t\t# tokenize on white space\n",
    "\t\t\tline = line.split()\n",
    "\t\t\t# convert to lowercase\n",
    "\t\t\tline = [word.lower() for word in line]\n",
    "\t\t\t# remove punctuation from each token\n",
    "\t\t\tline = [re_punc.sub('', w) for w in line]\n",
    "\t\t\t# remove non-printable chars form each token\n",
    "\t\t\tline = [re_print.sub('', w) for w in line]\n",
    "\t\t\t# remove tokens with numbers in them\n",
    "\t\t\tline = [word for word in line if word.isalpha()]\n",
    "\t\t\t# store as string\n",
    "\t\t\tclean_pair.append(' '.join(line))\n",
    "\t\tcleaned.append(clean_pair)\n",
    "\treturn array(cleaned)"
   ]
  },
  {
   "cell_type": "markdown",
   "metadata": {},
   "source": [
    "Cleaned data will be saved to a file using picle API, Python's compression mechanism."
   ]
  },
  {
   "cell_type": "code",
   "execution_count": 22,
   "metadata": {},
   "outputs": [],
   "source": [
    "# save a list of clean sentences to file\n",
    "def save_clean_data(sentences, filename):\n",
    "\tdump(sentences, open(filename, 'wb'))\n",
    "\tprint('Saved: %s' % filename)\n"
   ]
  },
  {
   "cell_type": "markdown",
   "metadata": {},
   "source": [
    "We are no ready to process the data"
   ]
  },
  {
   "cell_type": "code",
   "execution_count": 13,
   "metadata": {},
   "outputs": [
    {
     "name": "stdout",
     "output_type": "stream",
     "text": [
      "/e/CLASSES/DeepLearning_cscie89/code/codedl11\n"
     ]
    }
   ],
   "source": [
    "!pwd"
   ]
  },
  {
   "cell_type": "code",
   "execution_count": 23,
   "metadata": {},
   "outputs": [
    {
     "data": {
      "text/plain": [
       "str"
      ]
     },
     "execution_count": 23,
     "metadata": {},
     "output_type": "execute_result"
    }
   ],
   "source": [
    "# load dataset\n",
    "filename = 'deu.txt'\n",
    "doc = load_doc(filename)\n",
    "type(doc)"
   ]
  },
  {
   "cell_type": "code",
   "execution_count": 24,
   "metadata": {},
   "outputs": [
    {
     "name": "stdout",
     "output_type": "stream",
     "text": [
      "Saved: english-german.pkl\n"
     ]
    }
   ],
   "source": [
    "# Split into english-german pairs\n",
    "pairs = to_pairs(doc)\n",
    "# clean sentences\n",
    "clean_pairs = clean_pairs(pairs)\n",
    "# save clean pairs to file\n",
    "save_clean_data(clean_pairs, 'english-german.pkl')"
   ]
  },
  {
   "cell_type": "code",
   "execution_count": null,
   "metadata": {},
   "outputs": [],
   "source": [
    "# spot check"
   ]
  },
  {
   "cell_type": "code",
   "execution_count": 25,
   "metadata": {},
   "outputs": [
    {
     "name": "stdout",
     "output_type": "stream",
     "text": [
      "[hi] => [hallo]\n",
      "[hi] => [gru gott]\n",
      "[run] => [lauf]\n",
      "[wow] => [potzdonner]\n",
      "[wow] => [donnerwetter]\n",
      "[fire] => [feuer]\n",
      "[help] => [hilfe]\n",
      "[help] => [zu hulf]\n",
      "[stop] => [stopp]\n",
      "[wait] => [warte]\n",
      "[go on] => [mach weiter]\n",
      "[hello] => [hallo]\n",
      "[i ran] => [ich rannte]\n",
      "[i see] => [ich verstehe]\n",
      "[i see] => [aha]\n",
      "[i try] => [ich probiere es]\n",
      "[i won] => [ich hab gewonnen]\n",
      "[i won] => [ich habe gewonnen]\n",
      "[smile] => [lacheln]\n",
      "[cheers] => [zum wohl]\n",
      "[freeze] => [keine bewegung]\n",
      "[freeze] => [stehenbleiben]\n",
      "[got it] => [verstanden]\n",
      "[got it] => [einverstanden]\n",
      "[he ran] => [er rannte]\n",
      "[he ran] => [er lief]\n",
      "[hop in] => [mach mit]\n",
      "[hug me] => [druck mich]\n",
      "[hug me] => [nimm mich in den arm]\n",
      "[hug me] => [umarme mich]\n",
      "[i fell] => [ich fiel]\n",
      "[i fell] => [ich fiel hin]\n",
      "[i fell] => [ich sturzte]\n",
      "[i fell] => [ich bin hingefallen]\n",
      "[i fell] => [ich bin gesturzt]\n",
      "[i know] => [ich wei]\n",
      "[i lied] => [ich habe gelogen]\n",
      "[i lost] => [ich habe verloren]\n",
      "[im] => [ich bin jahre alt]\n",
      "[im] => [ich bin]\n",
      "[im ok] => [mir gehts gut]\n",
      "[im ok] => [es geht mir gut]\n",
      "[im up] => [ich bin wach]\n",
      "[im up] => [ich bin auf]\n",
      "[no way] => [unmoglich]\n",
      "[no way] => [das gibts doch nicht]\n",
      "[no way] => [ausgeschlossen]\n",
      "[no way] => [in keinster weise]\n",
      "[really] => [wirklich]\n",
      "[really] => [echt]\n",
      "[really] => [im ernst]\n",
      "[thanks] => [danke]\n",
      "[try it] => [versuchs]\n",
      "[why me] => [warum ich]\n",
      "[ask tom] => [frag tom]\n",
      "[ask tom] => [fragen sie tom]\n",
      "[ask tom] => [fragt tom]\n",
      "[be cool] => [entspann dich]\n",
      "[be fair] => [sei nicht ungerecht]\n",
      "[be fair] => [sei fair]\n",
      "[be nice] => [sei nett]\n",
      "[be nice] => [seien sie nett]\n",
      "[beat it] => [geh weg]\n",
      "[beat it] => [hau ab]\n",
      "[beat it] => [verschwinde]\n",
      "[beat it] => [verdufte]\n",
      "[beat it] => [mach dich fort]\n",
      "[beat it] => [zieh leine]\n",
      "[beat it] => [mach dich vom acker]\n",
      "[beat it] => [verzieh dich]\n",
      "[beat it] => [verkrumele dich]\n",
      "[beat it] => [troll dich]\n",
      "[beat it] => [zisch ab]\n",
      "[beat it] => [pack dich]\n",
      "[beat it] => [mach ne fliege]\n",
      "[beat it] => [schwirr ab]\n",
      "[beat it] => [mach die sause]\n",
      "[beat it] => [scher dich weg]\n",
      "[beat it] => [scher dich fort]\n",
      "[call me] => [ruf mich an]\n",
      "[come in] => [komm herein]\n",
      "[come in] => [herein]\n",
      "[come on] => [komm]\n",
      "[come on] => [kommt]\n",
      "[come on] => [mach schon]\n",
      "[come on] => [macht schon]\n",
      "[come on] => [komm schon]\n",
      "[get tom] => [hol tom]\n",
      "[get out] => [raus]\n",
      "[get out] => [geh raus]\n",
      "[go away] => [geh weg]\n",
      "[go away] => [hau ab]\n",
      "[go away] => [verschwinde]\n",
      "[go away] => [verdufte]\n",
      "[go away] => [mach dich fort]\n",
      "[go away] => [zieh leine]\n",
      "[go away] => [mach dich vom acker]\n",
      "[go away] => [verzieh dich]\n",
      "[go away] => [verkrumele dich]\n",
      "[go away] => [troll dich]\n"
     ]
    }
   ],
   "source": [
    "for i in range(100):\n",
    "\tprint('[%s] => [%s]' % (clean_pairs[i,0], clean_pairs[i,1]))"
   ]
  },
  {
   "cell_type": "markdown",
   "metadata": {},
   "source": [
    "We need to perform a few more preparations. Notably, creat training and testing datasets"
   ]
  },
  {
   "cell_type": "code",
   "execution_count": 26,
   "metadata": {},
   "outputs": [],
   "source": [
    "from pickle import load\n",
    "from pickle import dump\n",
    "from numpy.random import shuffle"
   ]
  },
  {
   "cell_type": "code",
   "execution_count": 27,
   "metadata": {},
   "outputs": [],
   "source": [
    "# load a clean dataset\n",
    "def load_clean_sentences(filename):\n",
    "\treturn load(open(filename, 'rb'))\n",
    "\n",
    "# save a list of clean sentences to file\n",
    "def save_clean_data(sentences, filename):\n",
    "\tdump(sentences, open(filename, 'wb'))\n",
    "\tprint('Saved: %s' % filename)\n"
   ]
  },
  {
   "cell_type": "code",
   "execution_count": 28,
   "metadata": {},
   "outputs": [
    {
     "data": {
      "text/plain": [
       "338394"
      ]
     },
     "execution_count": 28,
     "metadata": {},
     "output_type": "execute_result"
    }
   ],
   "source": [
    "# load dataset\n",
    "raw_dataset = load_clean_sentences('english-german.pkl')\n",
    "raw_dataset.size"
   ]
  },
  {
   "cell_type": "markdown",
   "metadata": {},
   "source": [
    "To make our work faser we will reduce the datase to 10,000 samples"
   ]
  },
  {
   "cell_type": "code",
   "execution_count": 31,
   "metadata": {},
   "outputs": [
    {
     "data": {
      "text/plain": [
       "20000"
      ]
     },
     "execution_count": 31,
     "metadata": {},
     "output_type": "execute_result"
    }
   ],
   "source": [
    "# reduce dataset size\n",
    "n_sentences = 10000\n",
    "dataset = raw_dataset[:n_sentences, :]\n",
    "dataset.size"
   ]
  },
  {
   "cell_type": "code",
   "execution_count": 32,
   "metadata": {},
   "outputs": [],
   "source": [
    "# random shuffle\n",
    "shuffle(dataset)\n",
    "# split into train/test\n",
    "train, test = dataset[:9000], dataset[9000:]"
   ]
  },
  {
   "cell_type": "code",
   "execution_count": 33,
   "metadata": {},
   "outputs": [
    {
     "name": "stdout",
     "output_type": "stream",
     "text": [
      "18000 (9000, 2)\n"
     ]
    }
   ],
   "source": [
    "print(train.size, train.shape)"
   ]
  },
  {
   "cell_type": "code",
   "execution_count": 34,
   "metadata": {},
   "outputs": [
    {
     "name": "stdout",
     "output_type": "stream",
     "text": [
      "2000 (1000, 2)\n"
     ]
    }
   ],
   "source": [
    "print(test.size, test.shape)"
   ]
  },
  {
   "cell_type": "code",
   "execution_count": 35,
   "metadata": {},
   "outputs": [
    {
     "name": "stdout",
     "output_type": "stream",
     "text": [
      "Saved: english-german-both.pkl\n",
      "Saved: english-german-train.pkl\n",
      "Saved: english-german-test.pkl\n"
     ]
    }
   ],
   "source": [
    "# save\n",
    "save_clean_data(dataset, 'english-german-both.pkl')\n",
    "save_clean_data(train, 'english-german-train.pkl')\n",
    "save_clean_data(test, 'english-german-test.pkl')"
   ]
  },
  {
   "cell_type": "markdown",
   "metadata": {},
   "source": [
    "# Prepare and Train the Model\n",
    "\n",
    "Now we are finally ready to analyze those sentence pairs. \n"
   ]
  },
  {
   "cell_type": "code",
   "execution_count": 36,
   "metadata": {},
   "outputs": [
    {
     "name": "stderr",
     "output_type": "stream",
     "text": [
      "c:\\programs\\python\\python36\\lib\\site-packages\\h5py\\__init__.py:36: FutureWarning: Conversion of the second argument of issubdtype from `float` to `np.floating` is deprecated. In future, it will be treated as `np.float64 == np.dtype(float).type`.\n",
      "  from ._conv import register_converters as _register_converters\n",
      "Using TensorFlow backend.\n"
     ]
    }
   ],
   "source": [
    "from pickle import load\n",
    "from numpy import array\n",
    "from keras.preprocessing.text import Tokenizer\n",
    "from keras.preprocessing.sequence import pad_sequences\n",
    "from keras.utils import to_categorical\n",
    "# from keras.utils.vis_utils import plot_model\n",
    "from keras.models import Sequential\n",
    "from keras.layers import LSTM\n",
    "from keras.layers import Dense\n",
    "from keras.layers import Embedding\n",
    "from keras.layers import RepeatVector\n",
    "from keras.layers import TimeDistributed\n",
    "from keras.callbacks import ModelCheckpoint"
   ]
  },
  {
   "cell_type": "code",
   "execution_count": 37,
   "metadata": {},
   "outputs": [],
   "source": [
    "# load a clean dataset\n",
    "def load_clean_sentences(filename):\n",
    "\treturn load(open(filename, 'rb'))\n",
    "\n",
    "# fit a tokenizer\n",
    "def create_tokenizer(lines):\n",
    "\ttokenizer = Tokenizer()\n",
    "\ttokenizer.fit_on_texts(lines)\n",
    "\treturn tokenizer\n",
    "\n",
    "# max sentence length\n",
    "def max_length(lines):\n",
    "\treturn max(len(line.split()) for line in lines)\n",
    "\n",
    "# encode and pad sequences\n",
    "def encode_sequences(tokenizer, length, lines):\n",
    "\t# integer encode sequences\n",
    "\tX = tokenizer.texts_to_sequences(lines)\n",
    "\t# pad sequences with 0 values\n",
    "\tX = pad_sequences(X, maxlen=length, padding='post')\n",
    "\treturn X\n",
    "\n",
    "# one hot encode target sequence\n",
    "def encode_output(sequences, vocab_size):\n",
    "\tylist = list()\n",
    "\tfor sequence in sequences:\n",
    "\t\tencoded = to_categorical(sequence, num_classes=vocab_size)\n",
    "\t\tylist.append(encoded)\n",
    "\ty = array(ylist)\n",
    "\ty = y.reshape(sequences.shape[0], sequences.shape[1], vocab_size)\n",
    "\treturn y\n"
   ]
  },
  {
   "cell_type": "markdown",
   "metadata": {},
   "source": [
    "# Define NMT Model"
   ]
  },
  {
   "cell_type": "code",
   "execution_count": 38,
   "metadata": {},
   "outputs": [],
   "source": [
    "# define NMT model\n",
    "def define_model(src_vocab, tar_vocab, source_steps, target_steps, embedding_dim):\n",
    "\tmodel = Sequential()\n",
    "\tmodel.add(Embedding(src_vocab, embedding_dim, input_length=source_steps, mask_zero=True))\n",
    "\tmodel.add(LSTM(embedding_dim))\n",
    "\tmodel.add(RepeatVector(target_steps))\n",
    "\tmodel.add(LSTM(embedding_dim, return_sequences=True))\n",
    "\tmodel.add(TimeDistributed(Dense(tar_vocab, activation='softmax')))\n",
    "\t# compile model\n",
    "\tmodel.compile(optimizer='adam', loss='categorical_crossentropy')\n",
    "\t# summarize defined model\n",
    "\tmodel.summary()\n",
    "\t#plot_model(model, to_file='model.png', show_shapes=True)\n",
    "\treturn model\n"
   ]
  },
  {
   "cell_type": "code",
   "execution_count": 39,
   "metadata": {},
   "outputs": [
    {
     "name": "stdout",
     "output_type": "stream",
     "text": [
      "English Vocabulary Size: 2317\n",
      "English Max Length: 5\n"
     ]
    }
   ],
   "source": [
    "# load datasets\n",
    "dataset = load_clean_sentences('english-german-both.pkl')\n",
    "train = load_clean_sentences('english-german-train.pkl')\n",
    "test = load_clean_sentences('english-german-test.pkl')\n",
    "# prepare english tokenizer\n",
    "eng_tokenizer = create_tokenizer(dataset[:, 0])\n",
    "eng_vocab_size = len(eng_tokenizer.word_index) + 1\n",
    "eng_length = max_length(dataset[:, 0])\n",
    "print('English Vocabulary Size: %d' % eng_vocab_size)\n",
    "print('English Max Length: %d' % (eng_length))"
   ]
  },
  {
   "cell_type": "code",
   "execution_count": 40,
   "metadata": {},
   "outputs": [
    {
     "name": "stdout",
     "output_type": "stream",
     "text": [
      "German Vocabulary Size: 3686\n",
      "German Max Length: 10\n"
     ]
    }
   ],
   "source": [
    "# prepare german tokenizer\n",
    "ger_tokenizer = create_tokenizer(dataset[:, 1])\n",
    "ger_vocab_size = len(ger_tokenizer.word_index) + 1\n",
    "ger_length = max_length(dataset[:, 1])\n",
    "print('German Vocabulary Size: %d' % ger_vocab_size)\n",
    "print('German Max Length: %d' % (ger_length))"
   ]
  },
  {
   "cell_type": "code",
   "execution_count": 41,
   "metadata": {},
   "outputs": [
    {
     "name": "stdout",
     "output_type": "stream",
     "text": [
      "_________________________________________________________________\n",
      "Layer (type)                 Output Shape              Param #   \n",
      "=================================================================\n",
      "embedding_1 (Embedding)      (None, 10, 256)           943616    \n",
      "_________________________________________________________________\n",
      "lstm_1 (LSTM)                (None, 256)               525312    \n",
      "_________________________________________________________________\n",
      "repeat_vector_1 (RepeatVecto (None, 5, 256)            0         \n",
      "_________________________________________________________________\n",
      "lstm_2 (LSTM)                (None, 5, 256)            525312    \n",
      "_________________________________________________________________\n",
      "time_distributed_1 (TimeDist (None, 5, 2317)           595469    \n",
      "=================================================================\n",
      "Total params: 2,589,709\n",
      "Trainable params: 2,589,709\n",
      "Non-trainable params: 0\n",
      "_________________________________________________________________\n"
     ]
    }
   ],
   "source": [
    "# prepare training data\n",
    "trainX = encode_sequences(ger_tokenizer, ger_length, train[:, 1])\n",
    "trainY = encode_sequences(eng_tokenizer, eng_length, train[:, 0])\n",
    "trainY = encode_output(trainY, eng_vocab_size)\n",
    "# prepare validation data\n",
    "testX = encode_sequences(ger_tokenizer, ger_length, test[:, 1])\n",
    "testY = encode_sequences(eng_tokenizer, eng_length, test[:, 0])\n",
    "testY = encode_output(testY, eng_vocab_size)\n",
    "# define model\n",
    "model = define_model(ger_vocab_size, eng_vocab_size, ger_length, eng_length, 256)\n"
   ]
  },
  {
   "cell_type": "markdown",
   "metadata": {},
   "source": [
    "# Train the model"
   ]
  },
  {
   "cell_type": "code",
   "execution_count": 42,
   "metadata": {},
   "outputs": [
    {
     "name": "stdout",
     "output_type": "stream",
     "text": [
      "Train on 9000 samples, validate on 1000 samples\n",
      "Epoch 1/30\n",
      " - 16s - loss: 4.3666 - val_loss: 3.5597\n",
      "\n",
      "Epoch 00001: val_loss improved from inf to 3.55970, saving model to model.h5\n",
      "Epoch 2/30\n",
      " - 10s - loss: 3.4330 - val_loss: 3.4158\n",
      "\n",
      "Epoch 00002: val_loss improved from 3.55970 to 3.41580, saving model to model.h5\n",
      "Epoch 3/30\n",
      " - 11s - loss: 3.2881 - val_loss: 3.3521\n",
      "\n",
      "Epoch 00003: val_loss improved from 3.41580 to 3.35209, saving model to model.h5\n",
      "Epoch 4/30\n",
      " - 11s - loss: 3.1792 - val_loss: 3.2426\n",
      "\n",
      "Epoch 00004: val_loss improved from 3.35209 to 3.24257, saving model to model.h5\n",
      "Epoch 5/30\n",
      " - 11s - loss: 3.0343 - val_loss: 3.1428\n",
      "\n",
      "Epoch 00005: val_loss improved from 3.24257 to 3.14276, saving model to model.h5\n",
      "Epoch 6/30\n",
      " - 11s - loss: 2.8835 - val_loss: 3.0081\n",
      "\n",
      "Epoch 00006: val_loss improved from 3.14276 to 3.00810, saving model to model.h5\n",
      "Epoch 7/30\n",
      " - 11s - loss: 2.7154 - val_loss: 2.8880\n",
      "\n",
      "Epoch 00007: val_loss improved from 3.00810 to 2.88804, saving model to model.h5\n",
      "Epoch 8/30\n",
      " - 11s - loss: 2.5474 - val_loss: 2.7684\n",
      "\n",
      "Epoch 00008: val_loss improved from 2.88804 to 2.76843, saving model to model.h5\n",
      "Epoch 9/30\n",
      " - 15s - loss: 2.3860 - val_loss: 2.6643\n",
      "\n",
      "Epoch 00009: val_loss improved from 2.76843 to 2.66427, saving model to model.h5\n",
      "Epoch 10/30\n",
      " - 15s - loss: 2.2293 - val_loss: 2.5695\n",
      "\n",
      "Epoch 00010: val_loss improved from 2.66427 to 2.56952, saving model to model.h5\n",
      "Epoch 11/30\n",
      " - 13s - loss: 2.0832 - val_loss: 2.4855\n",
      "\n",
      "Epoch 00011: val_loss improved from 2.56952 to 2.48554, saving model to model.h5\n",
      "Epoch 12/30\n",
      " - 17s - loss: 1.9470 - val_loss: 2.4230\n",
      "\n",
      "Epoch 00012: val_loss improved from 2.48554 to 2.42302, saving model to model.h5\n",
      "Epoch 13/30\n",
      " - 14s - loss: 1.8181 - val_loss: 2.3585\n",
      "\n",
      "Epoch 00013: val_loss improved from 2.42302 to 2.35853, saving model to model.h5\n",
      "Epoch 14/30\n",
      " - 13s - loss: 1.6959 - val_loss: 2.3122\n",
      "\n",
      "Epoch 00014: val_loss improved from 2.35853 to 2.31218, saving model to model.h5\n",
      "Epoch 15/30\n",
      " - 11s - loss: 1.5807 - val_loss: 2.2679\n",
      "\n",
      "Epoch 00015: val_loss improved from 2.31218 to 2.26789, saving model to model.h5\n",
      "Epoch 16/30\n",
      " - 11s - loss: 1.4708 - val_loss: 2.2227\n",
      "\n",
      "Epoch 00016: val_loss improved from 2.26789 to 2.22267, saving model to model.h5\n",
      "Epoch 17/30\n",
      " - 16s - loss: 1.3646 - val_loss: 2.1861\n",
      "\n",
      "Epoch 00017: val_loss improved from 2.22267 to 2.18608, saving model to model.h5\n",
      "Epoch 18/30\n",
      " - 12s - loss: 1.2653 - val_loss: 2.1491\n",
      "\n",
      "Epoch 00018: val_loss improved from 2.18608 to 2.14908, saving model to model.h5\n",
      "Epoch 19/30\n",
      " - 11s - loss: 1.1677 - val_loss: 2.1184\n",
      "\n",
      "Epoch 00019: val_loss improved from 2.14908 to 2.11838, saving model to model.h5\n",
      "Epoch 20/30\n",
      " - 11s - loss: 1.0743 - val_loss: 2.0839\n",
      "\n",
      "Epoch 00020: val_loss improved from 2.11838 to 2.08386, saving model to model.h5\n",
      "Epoch 21/30\n",
      " - 11s - loss: 0.9894 - val_loss: 2.0613\n",
      "\n",
      "Epoch 00021: val_loss improved from 2.08386 to 2.06132, saving model to model.h5\n",
      "Epoch 22/30\n",
      " - 12s - loss: 0.9096 - val_loss: 2.0355\n",
      "\n",
      "Epoch 00022: val_loss improved from 2.06132 to 2.03552, saving model to model.h5\n",
      "Epoch 23/30\n",
      " - 10s - loss: 0.8329 - val_loss: 2.0312\n",
      "\n",
      "Epoch 00023: val_loss improved from 2.03552 to 2.03116, saving model to model.h5\n",
      "Epoch 24/30\n",
      " - 12s - loss: 0.7595 - val_loss: 1.9955\n",
      "\n",
      "Epoch 00024: val_loss improved from 2.03116 to 1.99546, saving model to model.h5\n",
      "Epoch 25/30\n",
      " - 12s - loss: 0.6908 - val_loss: 2.0000\n",
      "\n",
      "Epoch 00025: val_loss did not improve\n",
      "Epoch 26/30\n",
      " - 13s - loss: 0.6307 - val_loss: 1.9834\n",
      "\n",
      "Epoch 00026: val_loss improved from 1.99546 to 1.98342, saving model to model.h5\n",
      "Epoch 27/30\n",
      " - 11s - loss: 0.5728 - val_loss: 1.9715\n",
      "\n",
      "Epoch 00027: val_loss improved from 1.98342 to 1.97146, saving model to model.h5\n",
      "Epoch 28/30\n",
      " - 11s - loss: 0.5209 - val_loss: 1.9705\n",
      "\n",
      "Epoch 00028: val_loss improved from 1.97146 to 1.97048, saving model to model.h5\n",
      "Epoch 29/30\n",
      " - 11s - loss: 0.4765 - val_loss: 1.9640\n",
      "\n",
      "Epoch 00029: val_loss improved from 1.97048 to 1.96400, saving model to model.h5\n",
      "Epoch 30/30\n",
      " - 11s - loss: 0.4340 - val_loss: 1.9728\n",
      "\n",
      "Epoch 00030: val_loss did not improve\n"
     ]
    },
    {
     "data": {
      "text/plain": [
       "<keras.callbacks.History at 0x1fd14195b38>"
      ]
     },
     "execution_count": 42,
     "metadata": {},
     "output_type": "execute_result"
    }
   ],
   "source": [
    "# fit model\n",
    "checkpoint = ModelCheckpoint('model.h5', monitor='val_loss', verbose=1, save_best_only=True, mode='min')\n",
    "model.fit(trainX, trainY, epochs=30, batch_size=64, validation_data=(testX, testY), callbacks=[checkpoint], verbose=2)\n"
   ]
  },
  {
   "cell_type": "code",
   "execution_count": 43,
   "metadata": {},
   "outputs": [],
   "source": [
    "from pickle import load\n",
    "from numpy import argmax\n",
    "from keras.preprocessing.text import Tokenizer\n",
    "from keras.preprocessing.sequence import pad_sequences\n",
    "from keras.models import load_model\n",
    "from nltk.translate.bleu_score import corpus_bleu\n",
    "\n",
    "# load a clean dataset\n",
    "def load_clean_sentences(filename):\n",
    "\treturn load(open(filename, 'rb'))\n",
    "\n",
    "# fit a tokenizer\n",
    "def create_tokenizer(lines):\n",
    "\ttokenizer = Tokenizer()\n",
    "\ttokenizer.fit_on_texts(lines)\n",
    "\treturn tokenizer\n",
    "\n",
    "# max sentence length\n",
    "def max_length(lines):\n",
    "\treturn max(len(line.split()) for line in lines)\n",
    "\n",
    "# encode and pad sequences\n",
    "def encode_sequences(tokenizer, length, lines):\n",
    "\t# integer encode sequences\n",
    "\tX = tokenizer.texts_to_sequences(lines)\n",
    "\t# pad sequences with 0 values\n",
    "\tX = pad_sequences(X, maxlen=length, padding='post')\n",
    "\treturn X\n",
    "\n",
    "# map an integer to a word\n",
    "def word_for_id(integer, tokenizer):\n",
    "\tfor word, index in tokenizer.word_index.items():\n",
    "\t\tif index == integer:\n",
    "\t\t\treturn word\n",
    "\treturn None\n"
   ]
  },
  {
   "cell_type": "code",
   "execution_count": 44,
   "metadata": {},
   "outputs": [],
   "source": [
    "# generate target given source sequence\n",
    "def predict_sequence(model, tokenizer, source):\n",
    "\tprediction = model.predict(source, verbose=0)[0]\n",
    "\tintegers = [argmax(vector) for vector in prediction]\n",
    "\ttarget = list()\n",
    "\tfor i in integers:\n",
    "\t\tword = word_for_id(i, tokenizer)\n",
    "\t\tif word is None:\n",
    "\t\t\tbreak\n",
    "\t\ttarget.append(word)\n",
    "\treturn ' '.join(target)\n"
   ]
  },
  {
   "cell_type": "code",
   "execution_count": 45,
   "metadata": {},
   "outputs": [],
   "source": [
    "# evaluate the skill of the model\n",
    "def evaluate_model(model, sources, raw_dataset):\n",
    "\tactual, predicted = list(), list()\n",
    "\tfor i, source in enumerate(sources):\n",
    "\t\t# translate encoded source text\n",
    "\t\tsource = source.reshape((1, source.shape[0]))\n",
    "\t\ttranslation = predict_sequence(model, eng_tokenizer, source)\n",
    "\t\traw_target, raw_src = raw_dataset[i]\n",
    "\t\tif i < 10:\n",
    "\t\t\tprint('src=[%s], target=[%s], predicted=[%s]' % (raw_src, raw_target, translation))\n",
    "\t\tactual.append(raw_target.split())\n",
    "\t\tpredicted.append(translation.split())\n",
    "\t# calculate BLEU score\n",
    "\tprint('BLEU-1: %f' % corpus_bleu(actual, predicted, weights=(1.0, 0, 0, 0)))\n",
    "\tprint('BLEU-2: %f' % corpus_bleu(actual, predicted, weights=(0.5, 0.5, 0, 0)))\n",
    "\tprint('BLEU-3: %f' % corpus_bleu(actual, predicted, weights=(0.3, 0.3, 0.3, 0)))\n",
    "\tprint('BLEU-4: %f' % corpus_bleu(actual, predicted, weights=(0.25, 0.25, 0.25, 0.25)))\n"
   ]
  },
  {
   "cell_type": "code",
   "execution_count": 46,
   "metadata": {},
   "outputs": [],
   "source": [
    "# load datasets\n",
    "dataset = load_clean_sentences('english-german-both.pkl')\n",
    "train = load_clean_sentences('english-german-train.pkl')\n",
    "test = load_clean_sentences('english-german-test.pkl')\n",
    "# prepare english tokenizer\n",
    "eng_tokenizer = create_tokenizer(dataset[:, 0])\n",
    "eng_vocab_size = len(eng_tokenizer.word_index) + 1\n",
    "eng_length = max_length(dataset[:, 0])\n",
    "# prepare german tokenizer\n",
    "ger_tokenizer = create_tokenizer(dataset[:, 1])\n",
    "ger_vocab_size = len(ger_tokenizer.word_index) + 1\n",
    "ger_length = max_length(dataset[:, 1])\n",
    "# prepare data\n",
    "trainX = encode_sequences(ger_tokenizer, ger_length, train[:, 1])\n",
    "testX = encode_sequences(ger_tokenizer, ger_length, test[:, 1])\n",
    "# load model"
   ]
  },
  {
   "cell_type": "code",
   "execution_count": 47,
   "metadata": {},
   "outputs": [
    {
     "name": "stdout",
     "output_type": "stream",
     "text": [
      "train\n",
      "src=[du bist gefeuert], target=[youre fired], predicted=[youre fired]\n",
      "src=[strengt euch mehr an], target=[try harder], predicted=[try harder]\n",
      "src=[ich unterstutzte ihn], target=[i supported him], predicted=[i supported him]\n",
      "src=[tom hat nachgegeben], target=[tom relented], predicted=[tom relented]\n",
      "src=[es ist nicht da], target=[its not there], predicted=[its isnt easy]\n",
      "src=[na und], target=[then what], predicted=[then what]\n",
      "src=[ich bin geduldig], target=[im patient], predicted=[im patient]\n",
      "src=[die tasse ist voll], target=[the cup is full], predicted=[the cup is full]\n",
      "src=[es war groartig], target=[it was superb], predicted=[it was superb]\n",
      "src=[lest das zuerst], target=[read this first], predicted=[read this first]\n"
     ]
    },
    {
     "name": "stderr",
     "output_type": "stream",
     "text": [
      "c:\\programs\\python\\python36\\lib\\site-packages\\nltk\\translate\\bleu_score.py:523: UserWarning: \n",
      "The hypothesis contains 0 counts of 2-gram overlaps.\n",
      "Therefore the BLEU score evaluates to 0, independently of\n",
      "how many N-gram overlaps of lower order it contains.\n",
      "Consider using lower n-gram order or use SmoothingFunction()\n",
      "  warnings.warn(_msg)\n",
      "c:\\programs\\python\\python36\\lib\\site-packages\\nltk\\translate\\bleu_score.py:523: UserWarning: \n",
      "The hypothesis contains 0 counts of 3-gram overlaps.\n",
      "Therefore the BLEU score evaluates to 0, independently of\n",
      "how many N-gram overlaps of lower order it contains.\n",
      "Consider using lower n-gram order or use SmoothingFunction()\n",
      "  warnings.warn(_msg)\n",
      "c:\\programs\\python\\python36\\lib\\site-packages\\nltk\\translate\\bleu_score.py:523: UserWarning: \n",
      "The hypothesis contains 0 counts of 4-gram overlaps.\n",
      "Therefore the BLEU score evaluates to 0, independently of\n",
      "how many N-gram overlaps of lower order it contains.\n",
      "Consider using lower n-gram order or use SmoothingFunction()\n",
      "  warnings.warn(_msg)\n"
     ]
    },
    {
     "name": "stdout",
     "output_type": "stream",
     "text": [
      "BLEU-1: 0.074982\n",
      "BLEU-2: 0.000000\n",
      "BLEU-3: 0.000000\n",
      "BLEU-4: 0.000000\n",
      "test\n",
      "src=[sind sie fertig], target=[are you ready], predicted=[are you ready]\n",
      "src=[wir versuchten es], target=[we tried], predicted=[we will]\n",
      "src=[tom ist da], target=[tom is here], predicted=[tom is there]\n",
      "src=[ich fuhlte mich nackt], target=[i felt naked], predicted=[i felt isolated]\n",
      "src=[hort auf zu schieen], target=[stop shooting], predicted=[stop shooting]\n",
      "src=[wer wird das essen zubereiten], target=[wholl cook], predicted=[lets take eat]\n",
      "src=[ich habe kopfweh], target=[my head aches], predicted=[im head aches]\n",
      "src=[er hatte gluck], target=[he was lucky], predicted=[he was stupid]\n",
      "src=[versuchen sies doch mal], target=[give it a shot], predicted=[give and see it]\n",
      "src=[tom war ein spieer], target=[tom was square], predicted=[tom was a]\n",
      "BLEU-1: 0.063465\n",
      "BLEU-2: 0.000000\n",
      "BLEU-3: 0.000000\n",
      "BLEU-4: 0.000000\n"
     ]
    }
   ],
   "source": [
    "model = load_model('model.h5')\n",
    "# test on some training sequences\n",
    "print('train')\n",
    "evaluate_model(model, trainX, train)\n",
    "# test on some test sequences\n",
    "print('test')\n",
    "evaluate_model(model, testX, test)"
   ]
  },
  {
   "cell_type": "code",
   "execution_count": null,
   "metadata": {},
   "outputs": [],
   "source": []
  }
 ],
 "metadata": {
  "kernelspec": {
   "display_name": "Python 3",
   "language": "python",
   "name": "python3"
  },
  "language_info": {
   "codemirror_mode": {
    "name": "ipython",
    "version": 3
   },
   "file_extension": ".py",
   "mimetype": "text/x-python",
   "name": "python",
   "nbconvert_exporter": "python",
   "pygments_lexer": "ipython3",
   "version": "3.6.4"
  }
 },
 "nbformat": 4,
 "nbformat_minor": 2
}
