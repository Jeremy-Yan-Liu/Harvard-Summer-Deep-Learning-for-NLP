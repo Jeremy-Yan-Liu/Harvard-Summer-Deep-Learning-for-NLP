{
 "cells": [
  {
   "cell_type": "markdown",
   "metadata": {},
   "source": [
    "### Problem 1. \n",
    "Represent the following expressions in TensorFlow 𝑦 = 2 𝑥2 + 5, \n",
    "𝑧 = (3 ∗ 𝑦 − 4)/𝑥\n",
    "Calculate and print the value of 𝑦 where 𝑥 is a series of values starting with 1, incremented by 1 and ending at 9. Define variable x with a placeholder so that you could feed different values of 𝑥 while calculating 𝑦. Use Session.run() method which is fed different x values through a fetch_dict(ionary). Similarly, calculate and print values of 𝑧. Generate a TensorBoard graph of your calculations.\n",
    "(15%)"
   ]
  },
  {
   "cell_type": "code",
   "execution_count": 1,
   "metadata": {},
   "outputs": [],
   "source": [
    "import tensorflow as tf\n",
    "from tensorflow.python.framework import ops\n",
    "%load_ext tensorboard\n",
    "ops.reset_default_graph()"
   ]
  },
  {
   "cell_type": "markdown",
   "metadata": {},
   "source": [
    "#### Output Y and Z"
   ]
  },
  {
   "cell_type": "code",
   "execution_count": 2,
   "metadata": {},
   "outputs": [
    {
     "name": "stdout",
     "output_type": "stream",
     "text": [
      "Value of x:\n",
      "{<tf.Tensor 'Placeholder:0' shape=<unknown> dtype=float32>: [1, 2, 3, 4, 5, 6, 7, 8, 9]}\n",
      "\n",
      "Result of y: \n",
      "[  7.  13.  23.  37.  55.  77. 103. 133. 167.]\n",
      "\n",
      "Merged replace xy dictionary:\n",
      "{<tf.Tensor 'Placeholder:0' shape=<unknown> dtype=float32>: [1, 2, 3, 4, 5, 6, 7, 8, 9], <tf.Tensor 'Add:0' shape=<unknown> dtype=float32>: [7.0, 13.0, 23.0, 37.0, 55.0, 77.0, 103.0, 133.0, 167.0]}\n",
      "\n",
      "Result of z: \n",
      "[17.       17.5      21.666666 26.75     32.2      37.833332 43.57143\n",
      " 49.375    55.22222 ]\n"
     ]
    }
   ],
   "source": [
    "\n",
    "x = tf.placeholder(tf.float32)\n",
    "y = tf.add(tf.multiply(tf.square(x),2), 5)\n",
    "z = tf.math.divide(tf.subtract(tf.multiply(y,3),4),x)\n",
    "# Start up a `Session` using the default graph\n",
    "# with y as output and x input\n",
    "sess_y_x = tf.Session()\n",
    "# Define a dictionary that will replace the value of `a` with 15\n",
    "replace_dict_x = {x: list(range(1,10))}\n",
    "print(\"Value of x:\")\n",
    "print(replace_dict_x)\n",
    "print(\"\")\n",
    "# Run the session, passing in `replace_dict` as the value to `feed_dict` sess.run(b, feed_dict=replace_dict) #\n",
    "print(\"Result of y: \")\n",
    "sess_y_x.run(y, feed_dict=replace_dict_x)\n",
    "print(sess_y_x.run(y, feed_dict=replace_dict_x)) \n",
    "replace_dict_y = {y: list(sess_y_x.run(y, feed_dict=replace_dict_x))}\n",
    "print(\"\")\n",
    "# Start up a new session\n",
    "# with z as output and x,y input\n",
    "sess_z_xy = tf.Session()\n",
    "print(\"Merged replace xy dictionary:\")\n",
    "replace_dict_xy = {**replace_dict_x, **replace_dict_y }\n",
    "print(replace_dict_xy)\n",
    "print(\"\")\n",
    "print(\"Result of z: \")\n",
    "print(sess_z_xy.run(z, feed_dict=replace_dict_xy)) \n",
    "\n",
    "sess_y_x.close()\n",
    "sess_z_xy.close()\n"
   ]
  },
  {
   "cell_type": "markdown",
   "metadata": {},
   "source": [
    "#### Generate a TensorBoard graph of your calculations."
   ]
  },
  {
   "cell_type": "code",
   "execution_count": 3,
   "metadata": {},
   "outputs": [],
   "source": [
    "g = tf.Graph()\n",
    "with g.as_default():\n",
    "    x = tf.placeholder(tf.float32, name = \"X\")\n",
    "    with tf.name_scope(\"ZX\"): \n",
    "        with tf.name_scope(\"YX\"):\n",
    "            y = tf.add(tf.multiply(tf.square(x),2), 5)\n",
    "        with tf.name_scope(\"ZY\"):\n",
    "            z = tf.math.divide(tf.subtract(tf.multiply(y,3),4),x)\n",
    "tf.summary.FileWriter(\"output/\", g).close()"
   ]
  },
  {
   "cell_type": "code",
   "execution_count": 4,
   "metadata": {},
   "outputs": [],
   "source": [
    "#tensorboard --logdir='output/'"
   ]
  },
  {
   "cell_type": "markdown",
   "metadata": {},
   "source": [
    "<img src='output/1.png' height = 800 width = 800>"
   ]
  },
  {
   "cell_type": "markdown",
   "metadata": {},
   "source": [
    "### Problem 2. \n",
    "Consider 100 points along the straight line in (𝑥, 𝑦) plane represented by the linear equation 𝑦 = 0.3𝑥 + 0.2. Distribute those points along the line uniformly in the interval between -2.0 and 3.0. To the y coordinate of each point add a random normally distributed value with standard deviation of 1 and mean 0. You have created anartificial set of random measurements. Create a shallow neural network with one layer which will be able to predict y value corresponding to any x value in the above interval. Implement and train the network using TensorFlow API. Report on the accuracy of your model. This is a rather trivial problem and you do not need neural networks to solve it. We are practicing TensorFlow API. This was problem #2 of your Problem set #1. Then we did it with Keras. Now, you are asked to implement this problem in TensorFlow."
   ]
  },
  {
   "cell_type": "code",
   "execution_count": 5,
   "metadata": {},
   "outputs": [
    {
     "data": {
      "text/plain": [
       "[<matplotlib.lines.Line2D at 0x135771470>]"
      ]
     },
     "execution_count": 5,
     "metadata": {},
     "output_type": "execute_result"
    },
    {
     "data": {
      "image/png": "[encoded data removed]",
      "text/plain": [
       "<Figure size 432x288 with 1 Axes>"
      ]
     },
     "metadata": {
      "needs_background": "light"
     },
     "output_type": "display_data"
    }
   ],
   "source": [
    "import numpy as np\n",
    "import random\n",
    "import matplotlib.pyplot as plt\n",
    "plt.style.use('ggplot')\n",
    "%matplotlib inline\n",
    "\n",
    "random.seed(100)\n",
    "# Generate data points, use 1000 data points instead of 100 for higher accuracy\n",
    "num_points=100\n",
    "x = np.linspace(-2,3,num_points)\n",
    "# Add noise, scale is changed to 0.1 to lower noise\n",
    "noise = np.random.normal(loc=0.0, scale=0.1, size=num_points)\n",
    "y = 0.3*x + 0.2 + noise\n",
    "# Take a look\n",
    "plt.scatter(x,y,alpha =.5)\n",
    "plt.plot(x,0.3*x + 0.2, color = \"skyblue\", linewidth = 4)"
   ]
  },
  {
   "cell_type": "markdown",
   "metadata": {},
   "source": [
    "#### Train-Validation Split"
   ]
  },
  {
   "cell_type": "code",
   "execution_count": 6,
   "metadata": {},
   "outputs": [
    {
     "name": "stdout",
     "output_type": "stream",
     "text": [
      "(100,)\n",
      "(80,)\n",
      "(100,)\n",
      "(80,)\n"
     ]
    }
   ],
   "source": [
    "from sklearn.model_selection import train_test_split\n",
    "train_x1, val_x1, train_y1, val_y1 = train_test_split(x,y, test_size=0.2, random_state=42,shuffle=True)\n",
    "\n",
    "print(x.shape)\n",
    "print(train_x1.shape)\n",
    "print(y.shape)\n",
    "print(train_y1.shape)"
   ]
  },
  {
   "cell_type": "markdown",
   "metadata": {},
   "source": [
    "#### Build Model and Training Result"
   ]
  },
  {
   "cell_type": "code",
   "execution_count": 7,
   "metadata": {},
   "outputs": [
    {
     "name": "stderr",
     "output_type": "stream",
     "text": [
      "WARNING: Logging before flag parsing goes to stderr.\n",
      "W0723 18:40:41.593816 4521780672 deprecation.py:323] From /anaconda3/envs/pytf/lib/python3.6/site-packages/tensorflow/python/ops/math_grad.py:1205: add_dispatch_support.<locals>.wrapper (from tensorflow.python.ops.array_ops) is deprecated and will be removed in a future version.\n",
      "Instructions for updating:\n",
      "Use tf.where in 2.0, which has the same broadcast rule as np.where\n"
     ]
    },
    {
     "name": "stdout",
     "output_type": "stream",
     "text": [
      "Epoch 50 : cost = 0.20375386 W = -0.10331922 b = 0.68849695\n",
      "Epoch 100 : cost = 0.072296515 W = 0.106514886 b = 0.5550704\n",
      "Epoch 150 : cost = 0.034165476 W = 0.18799892 b = 0.44573137\n",
      "Epoch 200 : cost = 0.018614022 W = 0.22674055 b = 0.3672743\n",
      "Epoch 250 : cost = 0.011776105 W = 0.24842702 b = 0.3134052\n",
      "Epoch 300 : cost = 0.008730635 W = 0.26179415 b = 0.27702516\n",
      "Epoch 350 : cost = 0.0073712985 W = 0.27042544 b = 0.2526131\n",
      "Epoch 400 : cost = 0.0067643076 W = 0.27611327 b = 0.23627356\n",
      "Epoch 450 : cost = 0.00649324 W = 0.2798916 b = 0.22534847\n",
      "Epoch 500 : cost = 0.0063721645 W = 0.28241113 b = 0.21804674\n",
      "Epoch 550 : cost = 0.00631807 W = 0.28409305 b = 0.21316701\n",
      "Epoch 600 : cost = 0.006293899 W = 0.28521574 b = 0.20990644\n",
      "Epoch 650 : cost = 0.006283091 W = 0.285966 b = 0.20772788\n",
      "Epoch 700 : cost = 0.0062782555 W = 0.2864666 b = 0.20627226\n",
      "Epoch 750 : cost = 0.006276089 W = 0.2868014 b = 0.20529889\n",
      "Epoch 800 : cost = 0.006275117 W = 0.2870268 b = 0.20464945\n",
      "Epoch 850 : cost = 0.00627468 W = 0.28717485 b = 0.20421487\n",
      "Epoch 900 : cost = 0.0062744827 W = 0.28727427 b = 0.20392449\n",
      "Epoch 950 : cost = 0.0062743933 W = 0.28734034 b = 0.20373061\n",
      "Epoch 1000 : cost = 0.0062743532 W = 0.28738233 b = 0.20360154\n",
      "\n",
      "Training cost = 0.0062743532 Validation cost = 0.0024607687 \n",
      "\n",
      "Weight = 0.28738233 bias = 0.20360154 \n",
      "\n"
     ]
    }
   ],
   "source": [
    "# Reference: https://www.geeksforgeeks.org/linear-regression-using-tensorflow/\n",
    "X = tf.placeholder(\"float\") \n",
    "Y = tf.placeholder(\"float\") \n",
    "W = tf.Variable(np.random.randn(), name = \"W\") \n",
    "b = tf.Variable(np.random.randn(), name = \"b\") \n",
    "learning_rate = 0.01\n",
    "training_epochs = 1000\n",
    "# Hypothesis \n",
    "y_pred = tf.add(tf.multiply(X, W), b) \n",
    "\n",
    "# Mean Squared Error Cost Function \n",
    "n = len(train_x1) # Number of data points \n",
    "cost = tf.reduce_sum(tf.pow(y_pred-Y, 2)) / (2 * n) \n",
    "\n",
    "# Gradient Descent Optimizer \n",
    "optimizer = tf.train.GradientDescentOptimizer(learning_rate).minimize(cost) \n",
    "\n",
    "# Global Variables Initializer \n",
    "init = tf.global_variables_initializer() \n",
    "\n",
    "# Starting the Tensorflow Session \n",
    "with tf.Session() as sess: \n",
    "\t\n",
    "\t# Initializing the Variables \n",
    "\tsess.run(init) \n",
    "\t\n",
    "\t# Iterating through all the epochs \n",
    "\tfor epoch in range(training_epochs): \n",
    "\t\t\n",
    "\t\t# Feeding each data point into the optimizer using Feed Dictionary \n",
    "\t\tfor (_x, _y) in zip(train_x1, train_y1): \n",
    "\t\t\tsess.run(optimizer, feed_dict = {X : _x, Y : _y}) \n",
    "\t\t\n",
    "\t\t# Displaying the result after every 50 epochs \n",
    "\t\tif (epoch + 1) % 50 == 0: \n",
    "\t\t\t# Calculating the cost a every epoch \n",
    "\t\t\tc = sess.run(cost, feed_dict = {X : train_x1, Y : train_y1}) \n",
    "\t\t\tprint(\"Epoch\", (epoch + 1), \": cost =\", c, \"W =\", sess.run(W), \"b =\", sess.run(b)) \n",
    "\t# Storing necessary values to be used outside the Session \n",
    "\ttraining_cost = sess.run(cost, feed_dict ={X: train_x1, Y: train_y1}) \n",
    "\tval_cost = sess.run(cost, feed_dict ={X: val_x1, Y: val_y1}) \n",
    "\tweight = sess.run(W) \n",
    "\tbias = sess.run(b) \n",
    "\tprint(\"\\nTraining cost =\", training_cost,\"Validation cost =\", val_cost, '\\n')\n",
    "\tprint(\"Weight =\", weight, \"bias =\", bias, '\\n') "
   ]
  },
  {
   "cell_type": "markdown",
   "metadata": {},
   "source": [
    "#### Visualization of Fitted Line"
   ]
  },
  {
   "cell_type": "code",
   "execution_count": 8,
   "metadata": {},
   "outputs": [
    {
     "data": {
      "image/png": "[encoded data removed]",
      "text/plain": [
       "<Figure size 432x288 with 1 Axes>"
      ]
     },
     "metadata": {
      "needs_background": "light"
     },
     "output_type": "display_data"
    }
   ],
   "source": [
    "predictions = weight * x + bias \n",
    "# Plotting the Results \n",
    "plt.plot(x, y, 'ro', label ='Original data', alpha = .5) \n",
    "plt.plot(x,0.3*x + 0.2, color = \"skyblue\" , linewidth = 4, label = 'Original line')\n",
    "plt.plot(x, predictions, color = \"black\",linewidth = 4,linestyle = 'dashed',label ='Fitted line') \n",
    "plt.title('Linear Regression Result') \n",
    "plt.legend() \n",
    "plt.show() "
   ]
  },
  {
   "cell_type": "markdown",
   "metadata": {},
   "source": [
    "### Problem 3. \n",
    "Using code in the attached file named graph_and_summaries.py, demonstrate complex TensorBoard Graphs and Summaries. Capture a few of resulting graphs and summaries. Demonstrate that nested graphs could be expanded and collapsed. Please fix the code if it needs fixing. Provide us with working code. Code is a bit old and you might have to replace older TF calls with the current versions. This code paints several TensorBoard graphs displayed in the notes for Lecture 7.\n",
    "(10%)"
   ]
  },
  {
   "cell_type": "code",
   "execution_count": 9,
   "metadata": {},
   "outputs": [],
   "source": [
    "# Fix original code\n",
    "# Explicitly create a Graph object\n",
    "graph = tf.Graph()\n",
    "\n",
    "with graph.as_default():\n",
    "    \n",
    "    with tf.name_scope(\"variables\"):\n",
    "        # Variable to keep track of how many times the graph has been run\n",
    "        global_step = tf.Variable(0, dtype=tf.int32, name=\"global_step\")\n",
    "        \n",
    "        # Increments the above `global_step` Variable, should be run whenever the graph is run\n",
    "        increment_step = global_step.assign_add(1)\n",
    "        \n",
    "        # Variable that keeps track of previous output value:\n",
    "        previous_value = tf.Variable(0.0, dtype=tf.float32, name=\"previous_value\")\n",
    "    \n",
    "    # Primary transformation Operations\n",
    "    with tf.name_scope(\"exercise_transformation\"):\n",
    "        \n",
    "        # Separate input layer\n",
    "        with tf.name_scope(\"input\"):\n",
    "            # Create input placeholder- takes in a Vector \n",
    "            a = tf.placeholder(tf.float32, shape=[None], name=\"input_placeholder_a\")\n",
    "    \n",
    "        # Separate middle layer\n",
    "        with tf.name_scope(\"intermediate_layer\"):\n",
    "            b = tf.reduce_prod(a, name=\"product_b\")\n",
    "            c = tf.reduce_sum(a, name=\"sum_c\")\n",
    "        \n",
    "        # Separate output layer\n",
    "        with tf.name_scope(\"output\"):\n",
    "            d = tf.add(b, c, name=\"add_d\")\n",
    "            output = tf.subtract(d, previous_value, name=\"output\")\n",
    "            update_prev = previous_value.assign(output)\n",
    "    \n",
    "    # Summary Operations\n",
    "    with tf.name_scope(\"summaries\"):\n",
    "        tf.summary.scalar('output', output)  # Creates summary for output node\n",
    "        tf.summary.scalar('product of inputs', b)\n",
    "        tf.summary.scalar('sum of inputs', c)\n",
    "    \n",
    "    # Global Variables and Operations\n",
    "    with tf.name_scope(\"global_ops\"):\n",
    "        # Initialization Op\n",
    "        init = tf.global_variables_initializer()\n",
    "        # Collect all summary Ops in graph\n",
    "        merged_summaries = tf.summary.merge_all()\n",
    "\n",
    "# Start a Session, using the explicitly created Graph\n",
    "sess = tf.Session(graph=graph)\n",
    "\n",
    "# Open a SummaryWriter to save summaries\n",
    "writer = tf.summary.FileWriter('./improved_graph', graph)\n",
    "\n",
    "# Initialize Variables\n",
    "sess.run(init)\n",
    "\n",
    "def run_graph(input_tensor):\n",
    "    \"\"\"\n",
    "    Helper function; runs the graph with given input tensor and saves summaries\n",
    "    \"\"\"\n",
    "    feed_dict = {a: input_tensor}\n",
    "    output, summary, step = sess.run([update_prev, merged_summaries, increment_step], feed_dict=feed_dict)\n",
    "    writer.add_summary(summary, global_step=step)\n",
    "\n",
    "\n",
    "# Run the graph with various inputs\n",
    "run_graph([2,8])\n",
    "run_graph([3,1,3,3])\n",
    "run_graph([8])\n",
    "# run_graph([1,2,3])\n",
    "# run_graph([11,4])\n",
    "# run_graph([4,1])\n",
    "# run_graph([7,3,1])\n",
    "# run_graph([6,3])\n",
    "# run_graph([0,2])\n",
    "# run_graph([4,5,6])\n",
    "\n",
    "# Writes the summaries to disk\n",
    "writer.flush()\n",
    "\n",
    "# Flushes the summaries to disk and closes the SummaryWriter\n",
    "writer.close()\n",
    "\n",
    "# Close the session\n",
    "sess.close()\n",
    "\n",
    "# To start TensorBoard after running this file, execute the following command:\n",
    "# $ tensorboard --logdir='./improved_graph'"
   ]
  },
  {
   "cell_type": "markdown",
   "metadata": {},
   "source": [
    "#### Show Summaries"
   ]
  },
  {
   "cell_type": "markdown",
   "metadata": {},
   "source": [
    "<img src='improved_graph/summary.jpg' height = 800 width = 800>"
   ]
  },
  {
   "cell_type": "markdown",
   "metadata": {},
   "source": [
    "#### Show Unexpanded Main Graph"
   ]
  },
  {
   "cell_type": "markdown",
   "metadata": {},
   "source": [
    "<img src='improved_graph/png.png' height = 400 width = 400>"
   ]
  },
  {
   "cell_type": "markdown",
   "metadata": {},
   "source": [
    "#### Show Partially Expanded Graph"
   ]
  },
  {
   "cell_type": "markdown",
   "metadata": {},
   "source": [
    "<img src='improved_graph/png2.png' height = 400 width = 400>"
   ]
  },
  {
   "cell_type": "markdown",
   "metadata": {},
   "source": [
    "<img src='improved_graph/png3.png' height = 400 width = 400>"
   ]
  },
  {
   "cell_type": "markdown",
   "metadata": {},
   "source": [
    "<img src='improved_graph/png4.png' height = 400 width = 400>"
   ]
  },
  {
   "cell_type": "markdown",
   "metadata": {},
   "source": [
    "#### Show Fully Exapnded Graph"
   ]
  },
  {
   "cell_type": "markdown",
   "metadata": {},
   "source": [
    "<img src='improved_graph/png5.png' height = 800 width = 800>"
   ]
  }
 ],
 "metadata": {
  "kernelspec": {
   "display_name": "pytf",
   "language": "python",
   "name": "other-env"
  },
  "language_info": {
   "codemirror_mode": {
    "name": "ipython",
    "version": 3
   },
   "file_extension": ".py",
   "mimetype": "text/x-python",
   "name": "python",
   "nbconvert_exporter": "python",
   "pygments_lexer": "ipython3",
   "version": "3.6.1"
  }
 },
 "nbformat": 4,
 "nbformat_minor": 2
}
